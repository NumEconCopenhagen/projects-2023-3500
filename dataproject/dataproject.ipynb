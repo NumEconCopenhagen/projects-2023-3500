{
 "cells": [
  {
   "attachments": {},
   "cell_type": "markdown",
   "metadata": {},
   "source": [
    "# Quantitative easing following the Financial Crisis"
   ]
  },
  {
   "attachments": {},
   "cell_type": "markdown",
   "metadata": {},
   "source": [
    "> **Note the following:** \n",
    "> 1. This is *not* meant to be an example of an actual **data analysis project**, just an example of how to structure such a project.\n",
    "> 1. Remember the general advice on structuring and commenting your code\n",
    "> 1. The `dataproject.py` file includes a function which can be used multiple times in this notebook."
   ]
  },
  {
   "attachments": {},
   "cell_type": "markdown",
   "metadata": {},
   "source": [
    "# Introduction\n",
    "\n",
    "The aim of this project is to examine the use of Quantitative Easing (QE) by the Federal Reserve Bank of America (FED) in response to the Financial Crisis in 2008 and focus on the first round of QE in the US called QE1. We estimate effect the use of QE1 had on yields of bonds and decompose the effect down into several channels that QE can effect through. We took on this project because we find QE interresting since it was a central response trying to stabilize the financial markets and lowering the interest rates to stimulate growth following the Financial Crisis.\n",
    "\n",
    "We do so by employing an event study methodology inspired by Krishnamurthy and Vissing-Jorgensen's (2011) approach. Our analysis reveals that the implementation of QE1 had a statistically significant impact on bond yields."
   ]
  },
  {
   "attachments": {},
   "cell_type": "markdown",
   "metadata": {},
   "source": [
    "# Data \n",
    "\n",
    "###########   Beskrivelse af det data vi benytter   ##############"
   ]
  },
  {
   "cell_type": "markdown",
   "metadata": {},
   "source": [
    "Imports and set magics:"
   ]
  },
  {
   "attachments": {},
   "cell_type": "markdown",
   "metadata": {},
   "source": [
    "# Explaining the imports and merging of data:\n",
    "\n",
    "In the following code we start by importing required libraries such as pandas, numpy, matplotlib, and ipywidgets. Furthermore we import a module named \"dataproject\" and load the autoreload extension package. This package allows the code to automatically reload any modified modules when the code is run.\n",
    "\n",
    "The next step is to import our data. We do this with CVS files. The code reads our two data CVS files named 'Treasuries.csv' and 'Agency.csv' using pandas' read_csv() function. We than stores them in two separate data frames named 'df_tres' and 'df_agency'. We use the merge()' function to merge the two data frames int a single data fram named 'df_merged' based on the 'Date' column.\n",
    "\n",
    "Finally we showcase the data by printing the first 10 rows of the merged data frame 'df_merged."
   ]
  },
  {
   "cell_type": "code",
   "execution_count": 1,
   "metadata": {},
   "outputs": [],
   "source": [
    "import pandas as pd\n",
    "import numpy as np\n",
    "import matplotlib.pyplot as plt\n",
    "import ipywidgets as widgets\n",
    "\n",
    "from IPython.display import display\n",
    "\n",
    "# autoreload modules when code is run\n",
    "%load_ext autoreload\n",
    "%autoreload 2\n",
    "%matplotlib widget\n",
    "\n",
    "# user written modules\n",
    "import dataproject"
   ]
  },
  {
   "attachments": {},
   "cell_type": "markdown",
   "metadata": {},
   "source": [
    "# Read and merge data"
   ]
  },
  {
   "attachments": {},
   "cell_type": "markdown",
   "metadata": {},
   "source": [
    "We import the data and merge it together to one dataframe called df_merged. Then we change the variablenames and check that the data looks correctly."
   ]
  },
  {
   "cell_type": "code",
   "execution_count": 4,
   "metadata": {},
   "outputs": [
    {
     "name": "stdout",
     "output_type": "stream",
     "text": [
      "Index(['Date', '1 year', '3 year', '5 year', '10 year', '30 year', 'Number',\n",
      "       'Citi surprise'],\n",
      "      dtype='object')\n",
      "Index(['Date', 'Freddie Mac 10', 'Fannie Mae 10', 'Fannie Mae 30',\n",
      "       'Freddie Mac 30', 'Freddie Mac 5', 'Fannie Mae 5', 'Freddie Mac 3',\n",
      "       'Fannie Mae 3'],\n",
      "      dtype='object')\n",
      "        Date  1 year  3 year  5 year  10 year  30 year  Number  Citi surprise  \\\n",
      "0 2011-12-30      12      36      83      189      289    1001           6850   \n",
      "1 2011-12-29      12      41      88      191      290    1000           6940   \n",
      "2 2011-12-28      12      42      91      193      291     999           6950   \n",
      "3 2011-12-27      12      45      96      202      304     998           7120   \n",
      "4 2011-12-23      12      45      97      203      305     997           7120   \n",
      "5 2011-12-22      12      41      91      197      299     996           6940   \n",
      "6 2011-12-21      13      40      91      198      300     995           7050   \n",
      "7 2011-12-20      12      39      88      194      293     994           7390   \n",
      "8 2011-12-19      11      36      82      182      279     993           7340   \n",
      "9 2011-12-16      11      35      81      186      286     992           7550   \n",
      "\n",
      "   Freddie Mac 10  Fannie Mae 10  Fannie Mae 30  Freddie Mac 30  \\\n",
      "0             166            188            319             321   \n",
      "1             169            191            320             321   \n",
      "2             173            194            321             322   \n",
      "3             181            202            334             336   \n",
      "4             181            202            335             337   \n",
      "5             177            197            329             331   \n",
      "6             176            203            330             332   \n",
      "7             175            197            323             326   \n",
      "8             167            191            311             312   \n",
      "9             169            193            318             319   \n",
      "\n",
      "   Freddie Mac 5  Fannie Mae 5  Freddie Mac 3  Fannie Mae 3  \n",
      "0            109           113             60            60  \n",
      "1            114           118             65            66  \n",
      "2            118           121             68            68  \n",
      "3            124           127             72            73  \n",
      "4            124           127             72            73  \n",
      "5            119           122             69            69  \n",
      "6            119           123             68            68  \n",
      "7            120           123             68            69  \n",
      "8            116           119             66            67  \n",
      "9            114           118             66            65  \n"
     ]
    }
   ],
   "source": [
    "# Make csv files to datafranes and merge datasets\n",
    "df_tres = pd.read_csv('Treasuries.csv', sep=\";\")\n",
    "#print(df_tres.head(10))\n",
    "df_agency = pd.read_csv('Agency.csv', sep=\";\")\n",
    "print(df_tres.columns)\n",
    "print(df_agency.columns)\n",
    "df_merged = df_tres.merge(df_agency, on=\"Date\", how='inner')\n",
    "df_merged.sort_values(by=['Number'], ascending=False)\n",
    "df_merged[\"Date\"] = pd.to_datetime(df_merged[\"Date\"], format=\"%d.%m.%Y\")\n",
    "print (df_merged.head(10))\n",
    "\n",
    "# Change variable names"
   ]
  },
  {
   "cell_type": "markdown",
   "metadata": {},
   "source": [
    "## Explore each data set"
   ]
  },
  {
   "cell_type": "markdown",
   "metadata": {},
   "source": [
    "In order to be able to **explore the raw data**, you may provide **static** and **interactive plots** to show important developments "
   ]
  },
  {
   "cell_type": "markdown",
   "metadata": {},
   "source": []
  },
  {
   "attachments": {},
   "cell_type": "markdown",
   "metadata": {},
   "source": [
    "**Interactive plot** :\n",
    "\n",
    "The following code is creating an interactive plot using the Matplotlib and ipywidgets libraries. It starts by enabling the \"widget\" backend for Matplotlib by running the command '%matplotlib widget'.\n",
    "The interactive plot depicts the US Treasuries alongside the agency bonds issued by Fannie Mae, during the time span of January 2008 to January 2012."
   ]
  },
  {
   "cell_type": "code",
   "execution_count": 3,
   "metadata": {},
   "outputs": [
    {
     "data": {
      "application/vnd.jupyter.widget-view+json": {
       "model_id": "aca319f1783e4fb8b88ca005c6c02c62",
       "version_major": 2,
       "version_minor": 0
      },
      "text/plain": [
       "SelectMultiple(description='Select variables:', index=(0,), options=('1 year', '3 year', '5 year', '10 year', …"
      ]
     },
     "metadata": {},
     "output_type": "display_data"
    },
    {
     "data": {
      "application/vnd.jupyter.widget-view+json": {
       "model_id": "f6e8d2f49e384a8785e5f42fdd03b579",
       "version_major": 2,
       "version_minor": 0
      },
      "image/png": "[encoded data removed]",
      "text/html": [
       "\n",
       "            <div style=\"display: inline-block;\">\n",
       "                <div class=\"jupyter-widgets widget-label\" style=\"text-align: center;\">\n",
       "                    Figure\n",
       "                </div>\n",
       "                <img src='data:image/png;base64,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' width=640.0/>\n",
       "            </div>\n",
       "        "
      ],
      "text/plain": [
       "Canvas(toolbar=Toolbar(toolitems=[('Home', 'Reset original view', 'home', 'home'), ('Back', 'Back to previous …"
      ]
     },
     "metadata": {},
     "output_type": "display_data"
    }
   ],
   "source": [
    "# Load data\n",
    "variable_names = ['1 year', '3 year', '5 year', '10 year', '30 year', 'Fannie Mae 30', 'Fannie Mae 10', 'Fannie Mae 5']\n",
    "\n",
    "# Define initial plot\n",
    "fig, ax = plt.subplots()\n",
    "lines = []\n",
    "for variable_name in variable_names:\n",
    "    line, = ax.plot(df_merged['Date'], df_merged[variable_name], label=variable_name, visible=False)\n",
    "    lines.append(line)\n",
    "ax.legend()\n",
    "    \n",
    "# Define callback function to update plot\n",
    "def update_plot(change):\n",
    "    selected_variables = change.new\n",
    "    for i, line in enumerate(lines):\n",
    "        if variable_names[i] in selected_variables:\n",
    "            line.set_visible(True)\n",
    "        else:\n",
    "            line.set_visible(False)\n",
    "    ax.legend()\n",
    "    fig.canvas.draw_idle()\n",
    "\n",
    "# Set x and y labels\n",
    "ax.set_xlabel('Date')\n",
    "ax.set_ylabel('Interest Rate (%)')\n",
    "\n",
    "# Define widget\n",
    "select_multiple = widgets.SelectMultiple(options=variable_names, value=[variable_names[0]], description='Select variables:')\n",
    "select_multiple.observe(update_plot, names='value')\n",
    "\n",
    "# Display plot and widget\n",
    "display(select_multiple)"
   ]
  },
  {
   "attachments": {},
   "cell_type": "markdown",
   "metadata": {},
   "source": [
    "SKRIV OMKRING GRAFEN OG HVAD DER SES OG ÆNDRE "
   ]
  },
  {
   "cell_type": "markdown",
   "metadata": {},
   "source": [
    "Explain what you see when moving elements of the interactive plot around. "
   ]
  },
  {
   "cell_type": "markdown",
   "metadata": {},
   "source": [
    "Now you create combinations of your loaded data sets. Remember the illustration of a (inner) **merge**:"
   ]
  },
  {
   "cell_type": "markdown",
   "metadata": {},
   "source": [
    "Here we are dropping elements from both data set X and data set Y. A left join would keep all observations in data X intact and subset only from Y. \n",
    "\n",
    "Make sure that your resulting data sets have the correct number of rows and columns. That is, be clear about which observations are thrown away. \n",
    "\n",
    "**Note:** Don't make Venn diagrams in your own data project. It is just for exposition. "
   ]
  },
  {
   "cell_type": "markdown",
   "metadata": {},
   "source": [
    "# Analysis"
   ]
  },
  {
   "cell_type": "markdown",
   "metadata": {},
   "source": [
    "To get a quick overview of the data, we show some **summary statistics** on a meaningful aggregation. "
   ]
  },
  {
   "cell_type": "markdown",
   "metadata": {},
   "source": [
    "MAKE FURTHER ANALYSIS. EXPLAIN THE CODE BRIEFLY AND SUMMARIZE THE RESULTS."
   ]
  },
  {
   "cell_type": "markdown",
   "metadata": {},
   "source": [
    "# Conclusion"
   ]
  },
  {
   "cell_type": "markdown",
   "metadata": {},
   "source": [
    "ADD CONCISE CONLUSION."
   ]
  }
 ],
 "metadata": {
  "kernelspec": {
   "display_name": "base",
   "language": "python",
   "name": "python3"
  },
  "language_info": {
   "codemirror_mode": {
    "name": "ipython",
    "version": 3
   },
   "file_extension": ".py",
   "mimetype": "text/x-python",
   "name": "python",
   "nbconvert_exporter": "python",
   "pygments_lexer": "ipython3",
   "version": "3.8.13"
  },
  "toc-autonumbering": true,
  "vscode": {
   "interpreter": {
    "hash": "2ec3ced4067dd0244576a03d63a2f76a19a8ddc10b5bedc34b89159e583a5b83"
   }
  }
 },
 "nbformat": 4,
 "nbformat_minor": 4
}
