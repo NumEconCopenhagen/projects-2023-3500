{
 "cells": [
  {
   "cell_type": "markdown",
   "metadata": {},
   "source": [
    "# Inaugural Project"
   ]
  },
  {
   "attachments": {},
   "cell_type": "markdown",
   "metadata": {},
   "source": [
    "> **Note the following:** \n",
    "> 1. This is an example of how to structure your **inaugural project**.\n",
    "> 1. Remember the general advice on structuring and commenting your code\n",
    "> 1. The `inauguralproject.py` file includes a function which can be used multiple times in this notebook."
   ]
  },
  {
   "cell_type": "markdown",
   "metadata": {},
   "source": [
    "Imports and set magics:"
   ]
  },
  {
   "cell_type": "code",
   "execution_count": 64,
   "metadata": {},
   "outputs": [
    {
     "name": "stdout",
     "output_type": "stream",
     "text": [
      "The autoreload extension is already loaded. To reload it, use:\n",
      "  %reload_ext autoreload\n"
     ]
    }
   ],
   "source": [
    "import numpy as np\n",
    "import matplotlib.pyplot as plt\n",
    "\n",
    "# autoreload modules when code is run. Otherwise, python will not see recent changes. \n",
    "%load_ext autoreload\n",
    "%autoreload 2\n",
    "\n",
    "# Import your own code\n",
    "from HouseholdSpecializationModel import HouseholdSpecializationModelClass\n",
    "model = HouseholdSpecializationModelClass()"
   ]
  },
  {
   "cell_type": "markdown",
   "metadata": {},
   "source": [
    "# Question 1"
   ]
  },
  {
   "cell_type": "markdown",
   "metadata": {},
   "source": [
    "**Explain how you solve the model**"
   ]
  },
  {
   "cell_type": "code",
   "execution_count": null,
   "metadata": {},
   "outputs": [],
   "source": [
    "# code for solving the model (remember documentation and comments)\n",
    "\n",
    "# a = np.array([1,2,3])\n",
    "# b = inauguralproject.square(a)\n",
    "# print(b)"
   ]
  },
  {
   "cell_type": "code",
   "execution_count": null,
   "metadata": {},
   "outputs": [],
   "source": [
    "# Making the varying alpha and sigma\n",
    "alpha_list = [0.25, 0.5, 0.75]\n",
    "sigma_list = [0.5, 1.0, 1.5]\n",
    "\n",
    "# Making a for loop for each combination of alpha and sigma and printing the results\n",
    "for alpha in alpha_list:    \n",
    "    for sigma in sigma_list:\n",
    "        # assigning the different value to alpha and sigma\n",
    "        model.par.alpha = alpha\n",
    "        model.par.sigma = sigma\n",
    "\n",
    "        # Solving the model with the new different values of alpha and sigma\n",
    "        opt = model.solve_discrete()\n",
    "\n",
    "        # Print results\n",
    "        print(f\"alpha = {alpha:.2f} and sigma = {sigma} | HF/HM = {opt.HF:.1f}/{opt.HM:.1f} = {opt.HF/opt.HM:.2f}\")"
   ]
  },
  {
   "cell_type": "markdown",
   "metadata": {},
   "source": [
    "# Question 2"
   ]
  },
  {
   "cell_type": "markdown",
   "metadata": {},
   "source": [
    "Explain your code and procedure"
   ]
  },
  {
   "cell_type": "code",
   "execution_count": null,
   "metadata": {},
   "outputs": [],
   "source": [
    "# Defining female wages\n",
    "wf_vec = model.par.wF_vec\n",
    "\n",
    "# Making parameters for working at home and wages\n",
    "# Because wM is equal to 1 we can ignore the denominator in the fraction wF/wM\n",
    "log_HFHM = []\n",
    "log_wf = []\n",
    "\n",
    "# Making a for loop to find the optimal  for different female wages\n",
    "for wf in wf_vec:\n",
    "    model.par.wF = wf\n",
    "    opt = model.solve_discrete()\n",
    "    log_HFHM.append(np.log(opt.HF/opt.HM))\n",
    "    log_wf.append(np.log(model.par.wF))\n",
    "\n",
    "# Plot the results\n",
    "plt.plot(log_wf, log_HFHM, color='darkgrey', lw=3) # the female wage is equal to the relative becuase wM = 1\n",
    "plt.xlabel(\"log($w_F/w_M$)\")\n",
    "plt.ylabel(\"log($H_F/H_M$)\")\n",
    "plt.title(\"Working at home for different $w_F$\")"
   ]
  },
  {
   "cell_type": "markdown",
   "metadata": {},
   "source": [
    "# Question 3"
   ]
  },
  {
   "cell_type": "markdown",
   "metadata": {},
   "source": [
    "Explain your code and procedure"
   ]
  },
  {
   "cell_type": "code",
   "execution_count": 65,
   "metadata": {},
   "outputs": [
    {
     "ename": "AttributeError",
     "evalue": "'NoneType' object has no attribute 'HF'",
     "output_type": "error",
     "traceback": [
      "\u001b[1;31m---------------------------------------------------------------------------\u001b[0m",
      "\u001b[1;31mAttributeError\u001b[0m                            Traceback (most recent call last)",
      "\u001b[1;32m~\\AppData\\Local\\Temp\\ipykernel_17080\\1206383845.py\u001b[0m in \u001b[0;36m<module>\u001b[1;34m\u001b[0m\n\u001b[0;32m     11\u001b[0m     \u001b[0mmodel\u001b[0m\u001b[1;33m.\u001b[0m\u001b[0mpar\u001b[0m\u001b[1;33m.\u001b[0m\u001b[0mwF\u001b[0m \u001b[1;33m=\u001b[0m \u001b[0mwf\u001b[0m\u001b[1;33m\u001b[0m\u001b[1;33m\u001b[0m\u001b[0m\n\u001b[0;32m     12\u001b[0m     \u001b[0mopt\u001b[0m \u001b[1;33m=\u001b[0m \u001b[0mmodel\u001b[0m\u001b[1;33m.\u001b[0m\u001b[0msolve\u001b[0m\u001b[1;33m(\u001b[0m\u001b[1;33m)\u001b[0m\u001b[1;33m\u001b[0m\u001b[1;33m\u001b[0m\u001b[0m\n\u001b[1;32m---> 13\u001b[1;33m     \u001b[0mlog_HFHM\u001b[0m\u001b[1;33m.\u001b[0m\u001b[0mappend\u001b[0m\u001b[1;33m(\u001b[0m\u001b[0mnp\u001b[0m\u001b[1;33m.\u001b[0m\u001b[0mlog\u001b[0m\u001b[1;33m(\u001b[0m\u001b[0mopt\u001b[0m\u001b[1;33m.\u001b[0m\u001b[0mHF\u001b[0m\u001b[1;33m/\u001b[0m\u001b[0mopt\u001b[0m\u001b[1;33m.\u001b[0m\u001b[0mHM\u001b[0m\u001b[1;33m)\u001b[0m\u001b[1;33m)\u001b[0m\u001b[1;33m\u001b[0m\u001b[1;33m\u001b[0m\u001b[0m\n\u001b[0m\u001b[0;32m     14\u001b[0m     \u001b[0mlog_wf\u001b[0m\u001b[1;33m.\u001b[0m\u001b[0mappend\u001b[0m\u001b[1;33m(\u001b[0m\u001b[0mnp\u001b[0m\u001b[1;33m.\u001b[0m\u001b[0mlog\u001b[0m\u001b[1;33m(\u001b[0m\u001b[0mmodel\u001b[0m\u001b[1;33m.\u001b[0m\u001b[0mpar\u001b[0m\u001b[1;33m.\u001b[0m\u001b[0mwF\u001b[0m\u001b[1;33m)\u001b[0m\u001b[1;33m)\u001b[0m\u001b[1;33m\u001b[0m\u001b[1;33m\u001b[0m\u001b[0m\n\u001b[0;32m     15\u001b[0m \u001b[1;33m\u001b[0m\u001b[0m\n",
      "\u001b[1;31mAttributeError\u001b[0m: 'NoneType' object has no attribute 'HF'"
     ]
    }
   ],
   "source": [
    "# Defining female wages\n",
    "wf_vec = model.par.wF_vec\n",
    "\n",
    "# Making parameters for working at home and wages\n",
    "# Because wM is equal to 1 we can ignore the denominator in the fraction wF/wM\n",
    "log_HFHM = []\n",
    "log_wf = []\n",
    "\n",
    "# Making a for loop to find the optimal  for different female wages\n",
    "for wf in wf_vec:\n",
    "    model.par.wF = wf\n",
    "    opt = model.solve()\n",
    "    log_HFHM.append(np.log(opt.HF/opt.HM))\n",
    "    log_wf.append(np.log(model.par.wF))\n",
    "\n",
    "# Plot the results\n",
    "plt.plot(log_wf, log_HFHM, color='darkgrey', lw=3) # the female wage is equal to the relative becuase wM = 1\n",
    "plt.xlabel(\"log($w_F/w_M$)\")\n",
    "plt.ylabel(\"log($H_F/H_M$)\")\n",
    "plt.title(\"Working at home for different $w_F$\")"
   ]
  },
  {
   "cell_type": "markdown",
   "metadata": {},
   "source": [
    "ADD CONCISE CONLUSION."
   ]
  }
 ],
 "metadata": {
  "kernelspec": {
   "display_name": "base",
   "language": "python",
   "name": "python3"
  },
  "language_info": {
   "codemirror_mode": {
    "name": "ipython",
    "version": 3
   },
   "file_extension": ".py",
   "mimetype": "text/x-python",
   "name": "python",
   "nbconvert_exporter": "python",
   "pygments_lexer": "ipython3",
   "version": "3.9.13"
  },
  "toc-autonumbering": true,
  "vscode": {
   "interpreter": {
    "hash": "ad2bdc8ecc057115af97d19610ffacc2b4e99fae6737bb82f5d7fb13d2f2c186"
   }
  }
 },
 "nbformat": 4,
 "nbformat_minor": 4
}
