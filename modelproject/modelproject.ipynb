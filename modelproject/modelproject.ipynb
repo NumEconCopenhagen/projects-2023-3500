{
 "cells": [
  {
   "attachments": {},
   "cell_type": "markdown",
   "metadata": {},
   "source": [
    "# YOUR PROJECT TITLE"
   ]
  },
  {
   "attachments": {},
   "cell_type": "markdown",
   "metadata": {},
   "source": [
    "> **Note the following:** \n",
    "> 1. This is *not* meant to be an example of an actual **model analysis project**, just an example of how to structure such a project.\n",
    "> 1. Remember the general advice on structuring and commenting your code\n",
    "> 1. The `modelproject.py` file includes a function which could be used multiple times in this notebook."
   ]
  },
  {
   "attachments": {},
   "cell_type": "markdown",
   "metadata": {},
   "source": [
    "Imports and set magics:"
   ]
  },
  {
   "cell_type": "code",
   "execution_count": 23,
   "metadata": {},
   "outputs": [
    {
     "name": "stdout",
     "output_type": "stream",
     "text": [
      "The autoreload extension is already loaded. To reload it, use:\n",
      "  %reload_ext autoreload\n"
     ]
    }
   ],
   "source": [
    "import numpy as np\n",
    "from scipy import optimize\n",
    "import sympy as sm\n",
    "import matplotlib.pyplot as plt\n",
    "\n",
    "# autoreload modules when code is run\n",
    "%load_ext autoreload\n",
    "%autoreload 2\n",
    "\n",
    "# local modules\n",
    "from modelproject import Koopman\n",
    "model = Koopman()"
   ]
  },
  {
   "attachments": {},
   "cell_type": "markdown",
   "metadata": {},
   "source": [
    "# Koopmans model"
   ]
  },
  {
   "attachments": {},
   "cell_type": "markdown",
   "metadata": {},
   "source": [
    "Introduction:\n",
    "\n",
    "The Koopmans model serves as a basic framework for exploring fundamental economic issues. Within the Koopmans model, we make the assumption that an economy consists of a single consumer and producer who are the same individual, along with two goods. In certain instances, it is also known as a Robinson Crusoe economy.\n",
    "The underlying presumption is that analyzing a one-agent economy will yield valuable insights into the operations of a real-world economy comprising numerous economic agents.\n",
    "\n",
    "\n",
    "  "
   ]
  },
  {
   "attachments": {},
   "cell_type": "markdown",
   "metadata": {},
   "source": [
    "We begin by describing a scenario in which a Koopmans model could be applied:\n",
    "\n",
    "Dwight, a former pilot and KGB agent from the Soviet Union, has transitioned to a livelihood as a freelance airplane photographer following the collapse of the Soviet Union. Over time, he has become a highly regarded photographer specializing in deserted island photography. Dwight was enjoying a state of great happiness, but it would soon take a turn for the worse... One day while flying over the uninhabited island known as Beets Island, Dwight encountered an engine malfunction and had to perform an emergency landing. Fortunately for Dwight, Beets Island lives up to its name. Upon finding 1200 beets, Dwight swiftly realizes that he can use them to successfully catch fish. If Dwight consumes all the beets, he won't be able to catch any fish. However, for each beet he uses, he will catch fish corresponding to the square root of the quantity of beets used for fishing. This is all the background we need to set up a Koopmans model.\n",
    "\n",
    "Below we have described the various parameters and the model:"
   ]
  },
  {
   "attachments": {},
   "cell_type": "markdown",
   "metadata": {},
   "source": [
    "y  is the quantity of fish caught\n",
    "\n",
    "z  is the quantity of beets\n",
    "\n",
    "e1 is the initial amount of beets\n",
    "\n",
    "e2 is the initial amount of fish\n",
    "\n",
    "x1 is the preference for beets\n",
    "\n",
    "x2 is the preference for fish\n",
    "\n",
    "p1 is the price of beets\n",
    "\n",
    "p2 is the price of fish\n",
    "\n",
    "a  is the consumer's preference\n",
    "\n",
    "i  is the income\n",
    "\n",
    "pi is the profit"
   ]
  },
  {
   "cell_type": "code",
   "execution_count": 24,
   "metadata": {},
   "outputs": [],
   "source": [
    "y = sm.symbols('y') \n",
    "z = sm.symbols('z') \n",
    "e1 = sm.symbols('e_1') \n",
    "e2 = sm.symbols('e_2') \n",
    "x1 = sm.symbols('x_1') \n",
    "x2 = sm.symbols('x_2') \n",
    "p1 = sm.symbols('p_1') \n",
    "p2 = sm.symbols('p_2') \n",
    "a = sm.symbols('alpha') \n",
    "i = sm.symbols('I') \n",
    "pi = sm.symbols('pi')"
   ]
  },
  {
   "attachments": {},
   "cell_type": "markdown",
   "metadata": {},
   "source": [
    "HUSK BESKRIV ALGORITME"
   ]
  },
  {
   "cell_type": "code",
   "execution_count": 25,
   "metadata": {},
   "outputs": [
    {
     "data": {
      "text/latex": [
       "$\\displaystyle z^{0.5}$"
      ],
      "text/plain": [
       "z**0.5"
      ]
     },
     "execution_count": 25,
     "metadata": {},
     "output_type": "execute_result"
    }
   ],
   "source": [
    "# Define production function:\n",
    "\n",
    "y = z**(1/2)\n",
    "y"
   ]
  },
  {
   "attachments": {},
   "cell_type": "markdown",
   "metadata": {},
   "source": [
    "# Walras equilibrium"
   ]
  },
  {
   "cell_type": "code",
   "execution_count": 26,
   "metadata": {},
   "outputs": [],
   "source": [
    "# Setting parameters\n",
    "a = 0.5 #np.linspace(0,1,10)\n",
    "e1 = 1200\n",
    "e2 = 0\n",
    "p2 = 1"
   ]
  },
  {
   "cell_type": "code",
   "execution_count": 27,
   "metadata": {},
   "outputs": [],
   "source": [
    "# Possible consumption plan\n",
    "x1 = e1 - z\n",
    "x2 = e2 + y"
   ]
  },
  {
   "cell_type": "code",
   "execution_count": 28,
   "metadata": {},
   "outputs": [],
   "source": [
    "# Define consumer preferences:\n",
    "def u(x1,x2,a):\n",
    "    return x1**a * x2**(1-a)"
   ]
  },
  {
   "cell_type": "code",
   "execution_count": 29,
   "metadata": {},
   "outputs": [],
   "source": [
    "\n",
    "# Price 1\n",
    "p1 = ((1+a)/(4800*(1-a)))**(1/2)\n"
   ]
  },
  {
   "cell_type": "code",
   "execution_count": 30,
   "metadata": {},
   "outputs": [
    {
     "name": "stdout",
     "output_type": "stream",
     "text": [
      "399.99999999999994\n",
      "20.0\n"
     ]
    }
   ],
   "source": [
    "# Profit\n",
    "pi = 1/(4*p1)\n",
    "\n",
    "# Consumption plan\n",
    "# m = p1*e1+p2*e2+pi\n",
    "m = (4800*p1**2+1)/(4*p1)\n",
    "\n",
    "# Equilibrium\n",
    "z_e = 1/(4*(p1**2))\n",
    "y_e = z_e**0.5\n",
    "print(z_e)\n",
    "print(y_e)"
   ]
  },
  {
   "cell_type": "code",
   "execution_count": 31,
   "metadata": {},
   "outputs": [],
   "source": [
    "z = np.array(range(e1+e2))\n",
    "#z = np.linspace(0,(e1+e2), num=1000, endpoint=True)\n"
   ]
  },
  {
   "cell_type": "code",
   "execution_count": 32,
   "metadata": {},
   "outputs": [],
   "source": [
    "Productionfunction: y = z**(1/2)\n",
    "Isoprofit: y = p1 * z + pi\n",
    "Utility: y = ((e1**a)/((e1-z)**a)**(a-1))-e2"
   ]
  },
  {
   "cell_type": "code",
   "execution_count": 33,
   "metadata": {},
   "outputs": [
    {
     "data": {
      "image/png": "[encoded data removed]",
      "text/plain": [
       "<Figure size 640x480 with 1 Axes>"
      ]
     },
     "metadata": {},
     "output_type": "display_data"
    }
   ],
   "source": [
    "plt.plot(Productionfunction)\n",
    "plt.plot(Isoprofit)\n",
    "#plt.plot(Utility)\n",
    "plt.plot(z_e,y_e, marker=\"o\", markersize=5, markerfacecolor=\"black\", markeredgecolor=\"black\")\n",
    "plt.show()"
   ]
  },
  {
   "attachments": {},
   "cell_type": "markdown",
   "metadata": {},
   "source": [
    "## Analytical solution"
   ]
  },
  {
   "attachments": {},
   "cell_type": "markdown",
   "metadata": {},
   "source": [
    "If your model allows for an analytical solution, you should provide here.\n",
    "\n",
    "You may use Sympy for this. Then you can characterize the solution as a function of a parameter of the model.\n",
    "\n",
    "To characterize the solution, first derive a steady state equation as a function of a parameter using Sympy.solve and then turn it into a python function by Sympy.lambdify. See the lecture notes for details. "
   ]
  },
  {
   "attachments": {},
   "cell_type": "markdown",
   "metadata": {},
   "source": [
    "## Numerical solution"
   ]
  },
  {
   "attachments": {},
   "cell_type": "markdown",
   "metadata": {},
   "source": [
    "You can always solve a model numerically. \n",
    "\n",
    "Define first the set of parameters you need. \n",
    "\n",
    "Then choose one of the optimization algorithms that we have gone through in the lectures based on what you think is most fitting for your model.\n",
    "\n",
    "Are there any problems with convergence? Does the model converge for all starting values? Make a lot of testing to figure these things out. "
   ]
  },
  {
   "attachments": {},
   "cell_type": "markdown",
   "metadata": {},
   "source": [
    "# Further analysis"
   ]
  },
  {
   "attachments": {},
   "cell_type": "markdown",
   "metadata": {},
   "source": [
    "Make detailed vizualizations of how your model changes with parameter values. \n",
    "\n",
    "Try to make an extension of the model. "
   ]
  },
  {
   "attachments": {},
   "cell_type": "markdown",
   "metadata": {},
   "source": [
    "# Conclusion"
   ]
  },
  {
   "attachments": {},
   "cell_type": "markdown",
   "metadata": {},
   "source": [
    "Add concise conclusion. "
   ]
  }
 ],
 "metadata": {
  "kernelspec": {
   "display_name": "base",
   "language": "python",
   "name": "python3"
  },
  "language_info": {
   "codemirror_mode": {
    "name": "ipython",
    "version": 3
   },
   "file_extension": ".py",
   "mimetype": "text/x-python",
   "name": "python",
   "nbconvert_exporter": "python",
   "pygments_lexer": "ipython3",
   "version": "3.9.13"
  },
  "toc-autonumbering": true,
  "vscode": {
   "interpreter": {
    "hash": "4343076f35936038916a1322b3fa243ef3e633f2e9d60dfd773ed7e9a9c1af50"
   }
  }
 },
 "nbformat": 4,
 "nbformat_minor": 4
}
