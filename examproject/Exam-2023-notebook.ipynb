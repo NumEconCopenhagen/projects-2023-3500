{
 "cells": [
  {
   "attachments": {},
   "cell_type": "markdown",
   "metadata": {},
   "source": [
    "**Table of contents**<a id='toc0_'></a>    \n",
    "- 1. [Problem 1: Optimal taxation with government consumption](#toc1_)    \n",
    "- 2. [Problem 2: Labor adjustment costs](#toc2_)    \n",
    "- 3. [Problem 3: Global optimizer with refined multi-start](#toc3_)    \n",
    "\n",
    "<!-- vscode-jupyter-toc-config\n",
    "\tnumbering=true\n",
    "\tanchor=true\n",
    "\tflat=false\n",
    "\tminLevel=2\n",
    "\tmaxLevel=6\n",
    "\t/vscode-jupyter-toc-config -->\n",
    "<!-- THIS CELL WILL BE REPLACED ON TOC UPDATE. DO NOT WRITE YOUR TEXT IN THIS CELL -->"
   ]
  },
  {
   "cell_type": "code",
   "execution_count": 33,
   "metadata": {},
   "outputs": [],
   "source": [
    "from types import SimpleNamespace\n",
    "from scipy import optimize\n",
    "import numpy as np\n",
    "import matplotlib.pyplot as plt"
   ]
  },
  {
   "attachments": {},
   "cell_type": "markdown",
   "metadata": {},
   "source": [
    "## 1. <a id='toc1_'></a>[Problem 1: Optimal taxation with government consumption](#toc0_)"
   ]
  },
  {
   "attachments": {},
   "cell_type": "markdown",
   "metadata": {},
   "source": [
    "\n",
    "Consider a worker choosing hours of labor, $L\\in[0,24]$, to maximize utility: \n",
    "\n",
    "$$\n",
    "\\begin{align*}\n",
    "V(w,\\tau,G)&=\\max_{L\\in[0,24]}\\ln\\left(C^{\\alpha}G^{1-\\alpha}\\right)-\\nu\\frac{L^{2}}{2}\\\\&\\text{s.t.}\\\\&C=\\kappa+(1-\\tau)wL\n",
    "\\end{align*}\n",
    "$$\n",
    "\n",
    "where \n",
    "\n",
    "* $C$ is *private* consumption with weight $\\alpha\\in(0,1)$.\n",
    "* $\\kappa > 0$ is the *free private* consumption component.\n",
    "* $(1-\\tau)wL$ is the *costly private* consumption component.\n",
    "* $w > 0 $ is the real wage.\n",
    "* $\\tau \\in (0,1)$ is the labor-income tax rate.\n",
    "* $G > 0 $ is *government* consumption with weight $1-\\alpha$.\n",
    "* $\\nu > 0$ is the disutility of labor scaling factor"
   ]
  },
  {
   "attachments": {},
   "cell_type": "markdown",
   "metadata": {},
   "source": [
    "\n",
    "The baseline parameters are:\n",
    "\n",
    "$$\n",
    "\\begin{align*}\n",
    "\\alpha &= 0.5\\\\\n",
    "\\kappa &= 1.0\\\\\n",
    "\\nu &= \\frac{1}{2\\cdot16^2} \\\\\n",
    "w &= 1.0 \\\\ \n",
    "\\tau &= 0.30 \\\\\n",
    "\\end{align*}\n",
    "$$"
   ]
  },
  {
   "attachments": {},
   "cell_type": "markdown",
   "metadata": {},
   "source": [
    "**Question 1:** Verify that the optimal labor supply choice is $L^{\\star}(\\tilde{w}) =\\frac{-\\kappa+\\sqrt{\\kappa^{2}+4\\frac{\\alpha}{\\nu}\\tilde{w}^2}}{2\\tilde{w}}$, where $\\tilde{w} = (1-\\tau)w$, for $G\\in\\left\\{1.0 , 2.0\\right\\}$."
   ]
  },
  {
   "cell_type": "code",
   "execution_count": 34,
   "metadata": {},
   "outputs": [
    {
     "name": "stdout",
     "output_type": "stream",
     "text": [
      "With a government spending of 2.0 the worker will choose to work 15.3 hours\n"
     ]
    }
   ],
   "source": [
    "sol = SimpleNamespace()\n",
    "# Preference\n",
    "alfa = 0.5\n",
    "kappa = 1\n",
    "v = 1/(2*16**2)\n",
    "w = 1\n",
    "tau = 0.3\n",
    "\n",
    "def utility(labour, gov):\n",
    "    wbar = (1-tau)*w\n",
    "    con = kappa+wbar*labour\n",
    "    return (np.log((con**alfa)*(gov**(1-alfa)))-v*(labour**2/2))\n",
    "\n",
    "\n",
    "def solve(sol):\n",
    "    objective_function = lambda x: -utility(x[0],x[1])\n",
    "    x0= [12.01, 1.5]\n",
    "    bounds = [(0.001, 24.0),(0.9999, 2.001)]\n",
    "    solution = optimize.minimize(objective_function, x0, method='Nelder-Mead', bounds=bounds)\n",
    "    sol.labour = solution.x[0]\n",
    "    sol.gov = solution.x[1]\n",
    "    return sol\n",
    "\n",
    "sol = solve(sol)\n",
    "print(f\"With a government spending of {sol.gov:.1f} the worker will choose to work {sol.labour:.1f} hours\")"
   ]
  },
  {
   "attachments": {},
   "cell_type": "markdown",
   "metadata": {},
   "source": [
    "**Question 2:** Illustrate how $L^{\\star}(\\tilde{w})$ depends on $w$."
   ]
  },
  {
   "cell_type": "code",
   "execution_count": 35,
   "metadata": {},
   "outputs": [
    {
     "name": "stdout",
     "output_type": "stream",
     "text": [
      "With a wage of 0.00, a government spending of 2.0, the worker will choose to work 0.0 hours.\n",
      "With a wage of 0.05, a government spending of 2.0, the worker will choose to work 7.2 hours.\n",
      "With a wage of 0.10, a government spending of 2.0, the worker will choose to work 10.4 hours.\n",
      "With a wage of 0.15, a government spending of 2.0, the worker will choose to work 11.9 hours.\n",
      "With a wage of 0.20, a government spending of 2.0, the worker will choose to work 12.8 hours.\n",
      "With a wage of 0.25, a government spending of 2.0, the worker will choose to work 13.4 hours.\n",
      "With a wage of 0.30, a government spending of 2.0, the worker will choose to work 13.8 hours.\n",
      "With a wage of 0.35, a government spending of 2.0, the worker will choose to work 14.1 hours.\n",
      "With a wage of 0.40, a government spending of 2.0, the worker will choose to work 14.3 hours.\n",
      "With a wage of 0.45, a government spending of 2.0, the worker will choose to work 14.5 hours.\n",
      "With a wage of 0.50, a government spending of 2.0, the worker will choose to work 14.6 hours.\n",
      "With a wage of 0.55, a government spending of 2.0, the worker will choose to work 14.8 hours.\n",
      "With a wage of 0.60, a government spending of 2.0, the worker will choose to work 14.9 hours.\n",
      "With a wage of 0.65, a government spending of 2.0, the worker will choose to work 14.9 hours.\n",
      "With a wage of 0.70, a government spending of 2.0, the worker will choose to work 15.0 hours.\n",
      "With a wage of 0.75, a government spending of 2.0, the worker will choose to work 15.1 hours.\n",
      "With a wage of 0.80, a government spending of 2.0, the worker will choose to work 15.1 hours.\n",
      "With a wage of 0.85, a government spending of 2.0, the worker will choose to work 15.2 hours.\n",
      "With a wage of 0.90, a government spending of 2.0, the worker will choose to work 15.2 hours.\n",
      "With a wage of 0.95, a government spending of 2.0, the worker will choose to work 15.3 hours.\n",
      "With a wage of 1.00, a government spending of 2.0, the worker will choose to work 15.3 hours.\n",
      "With a wage of 1.05, a government spending of 2.0, the worker will choose to work 15.3 hours.\n",
      "With a wage of 1.10, a government spending of 2.0, the worker will choose to work 15.4 hours.\n",
      "With a wage of 1.15, a government spending of 2.0, the worker will choose to work 15.4 hours.\n",
      "With a wage of 1.20, a government spending of 2.0, the worker will choose to work 15.4 hours.\n",
      "With a wage of 1.25, a government spending of 2.0, the worker will choose to work 15.4 hours.\n",
      "With a wage of 1.30, a government spending of 2.0, the worker will choose to work 15.5 hours.\n",
      "With a wage of 1.35, a government spending of 2.0, the worker will choose to work 15.5 hours.\n",
      "With a wage of 1.40, a government spending of 2.0, the worker will choose to work 15.5 hours.\n",
      "With a wage of 1.45, a government spending of 2.0, the worker will choose to work 15.5 hours.\n",
      "With a wage of 1.50, a government spending of 2.0, the worker will choose to work 15.5 hours.\n",
      "With a wage of 1.55, a government spending of 2.0, the worker will choose to work 15.5 hours.\n",
      "With a wage of 1.60, a government spending of 2.0, the worker will choose to work 15.6 hours.\n",
      "With a wage of 1.65, a government spending of 2.0, the worker will choose to work 15.6 hours.\n",
      "With a wage of 1.70, a government spending of 2.0, the worker will choose to work 15.6 hours.\n",
      "With a wage of 1.75, a government spending of 2.0, the worker will choose to work 15.6 hours.\n",
      "With a wage of 1.80, a government spending of 2.0, the worker will choose to work 15.6 hours.\n",
      "With a wage of 1.85, a government spending of 2.0, the worker will choose to work 15.6 hours.\n",
      "With a wage of 1.90, a government spending of 2.0, the worker will choose to work 15.6 hours.\n",
      "With a wage of 1.95, a government spending of 2.0, the worker will choose to work 15.6 hours.\n",
      "With a wage of 2.00, a government spending of 2.0, the worker will choose to work 15.6 hours.\n"
     ]
    },
    {
     "data": {
      "image/png": "[encoded data removed]",
      "text/plain": [
       "<Figure size 800x600 with 1 Axes>"
      ]
     },
     "metadata": {},
     "output_type": "display_data"
    }
   ],
   "source": [
    "res = SimpleNamespace()\n",
    "w_vec = np.linspace(0.0,2,41)\n",
    "res.labour = []\n",
    "res.gov = []\n",
    "\n",
    "\n",
    "\n",
    "for w in w_vec:\n",
    "    solve(sol)\n",
    "    res.labour.append(sol.labour)\n",
    "    res.gov.append(sol.gov)\n",
    "\n",
    "for i in range(len(w_vec)):\n",
    "    w = w_vec[i]\n",
    "    print(f\"With a wage of {w:.2f}, a government spending of {res.gov[i]:.1f}, the worker will choose to work {res.labour[i]:.1f} hours.\")\n",
    "\n",
    "\n",
    "# Plot the results\n",
    "plt.figure(figsize=(8, 6))\n",
    "plt.plot(w_vec, res.labour, label='Labour')\n",
    "plt.xlabel('Wage')\n",
    "plt.ylabel('Hours worked')\n",
    "plt.title('Optimal Labor given the Wage')\n",
    "plt.legend()\n",
    "plt.grid(True)"
   ]
  },
  {
   "attachments": {},
   "cell_type": "markdown",
   "metadata": {},
   "source": [
    "\n",
    "We now consider a government, who chooses $\\tau$ and spend all of the taxes on government consumption so:\n",
    "\n",
    "$$\n",
    "G = \\tau w L^{\\star}((1-\\tau)w)\n",
    "$$\n",
    "\n",
    "**Question 3:** Plot the implied $L$, $G$ and worker utility for a grid of $\\tau$-values.\n"
   ]
  },
  {
   "cell_type": "code",
   "execution_count": 36,
   "metadata": {},
   "outputs": [
    {
     "name": "stderr",
     "output_type": "stream",
     "text": [
      "/var/folders/1n/7t8fqrg92p9chjqy31yp7x2r0000gn/T/ipykernel_79266/1149881997.py:12: RuntimeWarning: invalid value encountered in double_scalars\n",
      "  labourstar = (-kappa + np.sqrt(kappa**2 + 4 * alfa / v * wbar**2)) / (2 * wbar)\n"
     ]
    },
    {
     "data": {
      "image/png": "[encoded data removed]",
      "text/plain": [
       "<Figure size 800x600 with 1 Axes>"
      ]
     },
     "metadata": {},
     "output_type": "display_data"
    }
   ],
   "source": [
    "res = SimpleNamespace()\n",
    "tau_vec = np.linspace(0.0,1,101)\n",
    "res.labour = []\n",
    "res.gov = []\n",
    "alfa = 0.5\n",
    "kappa = 1\n",
    "v = 1/(2*16**2)\n",
    "w = 1\n",
    "\n",
    "for tau in tau_vec:\n",
    "    wbar = (1 - tau) * w\n",
    "    labourstar = (-kappa + np.sqrt(kappa**2 + 4 * alfa / v * wbar**2)) / (2 * wbar)\n",
    "    res.labour.append(labourstar)\n",
    "    govtspending = tau * w * labourstar * ((1 - tau) * w)\n",
    "    res.gov.append(govtspending)\n",
    "    \n",
    "    \n",
    "    \n",
    "#Plot the results\n",
    "plt.figure(figsize=(8, 6))\n",
    "plt.plot(tau_vec, res.labour, label='Labour')\n",
    "plt.plot(tau_vec, res.gov, label='Government Spending')\n",
    "plt.xlabel('Tau')\n",
    "plt.ylabel('Hours worked and government spending')\n",
    "plt.title('Optimal Labor and Government Spending given the taxrate')\n",
    "plt.legend()\n",
    "plt.grid(True)\n"
   ]
  },
  {
   "attachments": {},
   "cell_type": "markdown",
   "metadata": {},
   "source": [
    "**Question 4:** Find the socially optimal tax rate $\\tau^{\\star}\\in(0,1)$ maximizing worker utility. Illustrate your result."
   ]
  },
  {
   "cell_type": "code",
   "execution_count": 37,
   "metadata": {},
   "outputs": [
    {
     "name": "stdout",
     "output_type": "stream",
     "text": [
      "The social optimal tax rate is 34.06\n"
     ]
    }
   ],
   "source": [
    "sol = SimpleNamespace()\n",
    "\n",
    "def utility(labour, tau):\n",
    "    wbar = (1-tau)*w\n",
    "    con = kappa+wbar*labour\n",
    "    return (np.log((con**alfa)*(govtfunc(labour, tau)**(1-alfa)))-v*(labour**2/2))\n",
    "\n",
    "def govtfunc(labour , tau):\n",
    "    return tau * w * labour * ((1 - tau) * w)\n",
    "\n",
    "\n",
    "def solvetau(sol):\n",
    "    objective_function = lambda x: -utility(x[0],x[1])\n",
    "    x0= [12.01, 0.5]\n",
    "    bounds = [(0.001, 24.0),(0.0001, 1.001)]\n",
    "    solution = optimize.minimize(objective_function, x0, method='Nelder-Mead', bounds=bounds)\n",
    "    sol.labour = solution.x[0]\n",
    "    sol.tau = solution.x[1]\n",
    "    return sol\n",
    "\n",
    "sol = solvetau(sol)\n",
    "print(f\"The social optimal tax rate is {100*sol.tau:.2f}\")\n",
    "tau_opt = sol.tau"
   ]
  },
  {
   "attachments": {},
   "cell_type": "markdown",
   "metadata": {},
   "source": [
    "A more general preference formulation for the worker is:\n",
    "\n",
    "$$\n",
    "\\begin{align*}\n",
    "\\mathcal{V}(w,\\tau,G)&=\\max_{L\\in[0,24]}\\frac{\\left[ \\left( \\alpha C^{\\frac{\\sigma-1}{\\sigma}}+(1-\\alpha) G^{\\frac{\\sigma-1}{\\sigma}} \\right)^{\\frac{\\sigma}{1-\\sigma} }\\right]^{1-\\rho}-1}{1-\\rho}- \\nu\\frac{L^{1+\\varepsilon}}{1+\\varepsilon},\\,\\,\\,\\varepsilon,\\rho,\\sigma>0,\\,\\,\\,\\rho,\\sigma\\neq1\\\\&\\text{s.t.}\\\\&C=\\kappa+(1-\\tau)wL\n",
    "\\end{align*}    \n",
    "$$\n",
    "\n",
    "Optimal labor supply is now $L^{\\star}(\\tilde{w},G)$."
   ]
  },
  {
   "attachments": {},
   "cell_type": "markdown",
   "metadata": {},
   "source": [
    "Questions 5 and 6 must be answered with the general formulation, and for 2 different set of parameters:\n",
    "\n",
    "- Set 1:  $\\sigma = 1.001$, $\\rho = 1.001$ and $\\varepsilon = 1.0$.\n",
    "- Set 2:  $\\sigma = 1.5$, $\\rho = 1.5$ and $\\varepsilon = 1.0 $."
   ]
  },
  {
   "attachments": {},
   "cell_type": "markdown",
   "metadata": {},
   "source": [
    "**Question 5:** Find the $G$ that solves $G = \\tau w L^{\\star}((1-\\tau)w,G)$ using the $\\tau$ found in question 4.\n",
    "\n",
    "*Hint: First write code that solves the worker problem for given values of $G$ and $\\tau$. Then find the correct G based on this.*"
   ]
  },
  {
   "cell_type": "code",
   "execution_count": 54,
   "metadata": {},
   "outputs": [
    {
     "name": "stdout",
     "output_type": "stream",
     "text": [
      "With 0.00100 hours worked the government will spent 0.00022\n"
     ]
    }
   ],
   "source": [
    "sol = SimpleNamespace()\n",
    "\n",
    "# Preferences\n",
    "alfa = 0.5\n",
    "kappa = 1\n",
    "v = 1 / (2 * 16**2)\n",
    "w = 1\n",
    "epsilon = 1\n",
    "rho = 1.001\n",
    "sigma = 1.001\n",
    "tau = 0.3406\n",
    "def utility(labour):\n",
    "    C = kappa + (1 - tau) * w * labour\n",
    "    inner = (alfa * C**((sigma - 1) / sigma) + (1 - alfa) * govtfunc(labour)**((sigma - 1) / sigma))**(sigma / (1 - sigma))\n",
    "    return (((inner**(1 - rho)) - 1) / (1 - rho)) - v * (labour**(1 + epsilon)) / (1 + epsilon)\n",
    "\n",
    "def govtfunc(labour):\n",
    "    return tau * w * labour * ((1 - tau) * w)\n",
    "\n",
    "\n",
    "def solve5(sol):\n",
    "    objective_function = lambda x: -utility(x[0])\n",
    "    x0 = [20.01]\n",
    "    bounds = [(0.001, 24.0)]\n",
    "    solution = optimize.minimize(objective_function, x0, method='L-BFGS-B', bounds=bounds)\n",
    "    sol.labour = solution.x[0]\n",
    "    return sol\n",
    "\n",
    "sol = solve5(sol)\n",
    "govtspen1 = govtfunc(sol.labour)\n",
    "\n",
    "print(f\"With {sol.labour:.5f} hours worked the government will spent {govtspen1:.5f}\")\n",
    "\n",
    "\n",
    "\n",
    "epsilon = 1\n",
    "rho = 1.5\n",
    "sigma = 1.5"
   ]
  },
  {
   "attachments": {},
   "cell_type": "markdown",
   "metadata": {},
   "source": [
    "**Question 6:** Find the socially optimal tax rate, $\\tau^{\\star}$, maximizing worker utility, while keeping $G = \\tau w L^{\\star}((1-\\tau)w,G)$."
   ]
  },
  {
   "cell_type": "code",
   "execution_count": null,
   "metadata": {},
   "outputs": [],
   "source": [
    "# write your code here  "
   ]
  },
  {
   "attachments": {},
   "cell_type": "markdown",
   "metadata": {},
   "source": [
    "## 2. <a id='toc2_'></a>[Problem 2: Labor adjustment costs](#toc0_)"
   ]
  },
  {
   "attachments": {},
   "cell_type": "markdown",
   "metadata": {},
   "source": [
    "You own a hair salon. You employ hairdressers, $\\ell_t$, to produce haircuts, $y_t = \\ell_t$.\n",
    "\n",
    "The wage for each haridresser is $w$.\n",
    "\n",
    "The demand for haircuts implies that the price of haircuts you can charge is $p_t = \\kappa_t y_t^{-\\eta}$, where $\\kappa_t$ is a demand-shock and $\\eta \\in (0,1)$ measures the elasticity of demand.\n",
    "\n",
    "Profits are:\n",
    "\n",
    "$$\n",
    "\\Pi_t = p_t y_t - w \\ell_t = \\kappa_t \\ell_t^{1-\\eta} - w \\ell_t\n",
    "$$"
   ]
  },
  {
   "attachments": {},
   "cell_type": "markdown",
   "metadata": {},
   "source": [
    "Baseline parameters are:\n",
    "- $\\eta = 0.5$\n",
    "- $w = 1.0$"
   ]
  },
  {
   "attachments": {},
   "cell_type": "markdown",
   "metadata": {},
   "source": [
    "**Question 1:** Verify numerically that $\\ell_{t}=\\left(\\frac{(1-\\eta)\\kappa_{t}}{w}\\right)^{\\frac{1}{\\eta}}$ maximises profits, for $\\kappa\\in\\left\\{1.0 , 2.0\\right\\}$."
   ]
  },
  {
   "cell_type": "code",
   "execution_count": null,
   "metadata": {},
   "outputs": [],
   "source": [
    "sol = SimpleNamespace()\n",
    "# Preference\n",
    "kappa_neg1 = 1\n",
    "w = 1\n",
    "eta = 0.5\n",
    "labour = 1\n",
    "\n",
    "def profit(kappa_neg1,labour):\n",
    "    return (kappa_neg1*labour**(1-eta)-w*labour)\n",
    "\n",
    "objective_function = lambda x: -profit(x[0],x[1])\n",
    "x0= [1.5, 10.01]\n",
    "bounds = [(0.9999, 2.001), (0.001, 1000.1)]\n",
    "solution = optimize.minimize(objective_function, x0, method='Nelder-Mead', bounds=bounds)\n",
    "sol.kappa = solution.x[0]\n",
    "sol.labour = solution.x[1]\n",
    "print(f\"With a kappa of {sol.kappa:.1f} we want to hire {sol.labour:.1f} hairdressors in equilibrium. By using the mathematically solution we get the same result.\")\n",
    "\n"
   ]
  },
  {
   "attachments": {},
   "cell_type": "markdown",
   "metadata": {},
   "source": [
    "We now consider a *dynamic* version of the model.\n",
    "\n",
    "* The demand-shock is a so-called AR(1) in logs, \n",
    "\n",
    "$$\n",
    "\\log \\kappa_{t} = \\rho \\log \\kappa_{t-1} + \\epsilon_{t},\\,\\,\\, \\epsilon_{t+1} \\sim \\mathcal{N}(-0.5\\sigma_{\\epsilon}^2,\\sigma_{\\epsilon})\n",
    "$$\n",
    "\n",
    "* Any hiring or firing implies a fixed adjustment cost, $\\iota > 0 $.\n",
    "* Future profits are discounted with a monthly factor of $R \\in (0,1)$.\n",
    "\n",
    "The initial demand shock is $\\kappa_{-1} = 1$ and the planning horizon is 10 years, i.e. 120 months so $t \\in \\{0,1,2,\\dots,119\\}$. Initially you don't have any employees, $\\ell_{-1}=0$"
   ]
  },
  {
   "attachments": {},
   "cell_type": "markdown",
   "metadata": {},
   "source": [
    "\n",
    "The *ex post* value of the salon is *conditional* on the shock series is:\n",
    "\n",
    "$$\n",
    "h(\\epsilon_0,\\epsilon_1,\\dots,\\epsilon_{119}) = \\left[\\sum_{t=0}^{119}R^{-t}\\left[\\kappa_{t}\\ell_{t}^{1-\\eta}-w\\ell_{t}-\\boldsymbol{1}_{\\ell_{t}\\neq\\ell_{t-1}}\\iota\\right]\\right]\n",
    "$$\n",
    "\n",
    "The *ex ante* expected value of the salon can be approximated by\n",
    "\n",
    "$$\n",
    "H = \\mathbb{E}[h(\\epsilon_0,\\epsilon_1,\\dots,\\epsilon_{119})] \\approx \\frac{1}{K}\\sum_{k=0}^{K} h(\\epsilon_0^k,\\epsilon_1^k,\\dots,\\epsilon_{119}^k)\n",
    "$$\n",
    "\n",
    "where each $k\\in\\{0,1,\\dots,K-1\\}$ is a random shock series. Maximizing profitability means maximizing $H$.\n"
   ]
  },
  {
   "attachments": {},
   "cell_type": "markdown",
   "metadata": {},
   "source": [
    "Baseline parameters are: \n",
    "\n",
    "- $\\rho = 0.90$\n",
    "- $\\iota = 0.01$\n",
    "- $\\sigma_{\\epsilon} = 0.10$\n",
    "- $R = \\left(1+0.01\\right)^{1/12}$"
   ]
  },
  {
   "attachments": {},
   "cell_type": "markdown",
   "metadata": {},
   "source": [
    "**Question 2:** Calculate $H$ if the policy  $\\ell_{t}=\\left(\\frac{(1-\\eta)\\kappa_{t}}{w}\\right)^{\\frac{1}{\\eta}}$ from question 1 is followed. Choose $K$ so the approximation is good enough to not affect your results substantially."
   ]
  },
  {
   "cell_type": "code",
   "execution_count": 46,
   "metadata": {},
   "outputs": [
    {
     "data": {
      "text/plain": [
       "279.22713901227945"
      ]
     },
     "execution_count": 46,
     "metadata": {},
     "output_type": "execute_result"
    }
   ],
   "source": [
    "# Define the parameters\n",
    "rho = 0.90\n",
    "iota = 0.01\n",
    "sigma_epsilon = 0.10\n",
    "R = (1 + 0.01)**(1/12)\n",
    "\n",
    "# Define the planning horizon\n",
    "T = 120\n",
    "\n",
    "# Initialize the variables\n",
    "kappa = np.zeros(T+1)  # Demand shock series\n",
    "ell = np.zeros(T+1)  # Number of employees\n",
    "epsilon = np.zeros(T+1)  # Random shock series\n",
    "\n",
    "# Set initial conditions\n",
    "kappa[0] = 1\n",
    "ell[0] = 0\n",
    "\n",
    "# Generate the random shock series\n",
    "np.random.seed(0)  # Set a seed for reproducibility\n",
    "epsilon[1:] = np.random.normal(loc=-0.5*sigma_epsilon**2, scale=sigma_epsilon, size=T)\n",
    "\n",
    "# Calculate kappa using the AR(1) process\n",
    "for t in range(1, T+1):\n",
    "    kappa[t] = rho * kappa[t-1] + epsilon[t]\n",
    "\n",
    "# Calculate H using the provided policy\n",
    "eta = 0.5  # The value of eta from question 1\n",
    "w = 1.0  # The value of w from question 1\n",
    "\n",
    "h_values = []\n",
    "K = 1000  # Number of shock series to average over\n",
    "\n",
    "for _ in range(K):\n",
    "    ell[1:] = ((1 - eta) * kappa[1:T+1] / w) ** (1 / eta)\n",
    "    h = np.sum(R * (-np.arange(T)) * (kappa[1:T+1] * ell[1:T+1] * (1 - eta) - w * ell[1:T+1] - (ell[1:T+1] != ell[:T]) * iota))\n",
    "    h_values.append(h)\n",
    "\n",
    "# Calculate the ex ante expected value\n",
    "H = np.mean(h_values)\n",
    "\n",
    "H\n"
   ]
  },
  {
   "attachments": {},
   "cell_type": "markdown",
   "metadata": {},
   "source": [
    "Next, we consider policies on the form:\n",
    "\n",
    "$$\n",
    "\n",
    "\\ell_{t}=\\begin{cases}\n",
    "\\ell_t^{\\ast}  & \\text{if }\\left|\\ell_{t-1}-\\ell_t^{\\ast} \\right|>\\Delta\\\\\n",
    "\\ell_{t-1} & \\text{else }\n",
    "\\end{cases}\n",
    "\\\\\n",
    "\\text{where}\\,\\,\\ell_t^{\\ast} = \\left(\\frac{(1-\\eta)\\kappa_{t}}{w}\\right)^{\\frac{1}{\\eta}} \\\\\n",
    "\n",
    "$$\n",
    "With $\\Delta \\geq 0$ and $\\Delta = 0$ being the previous policy.\n"
   ]
  },
  {
   "attachments": {},
   "cell_type": "markdown",
   "metadata": {},
   "source": [
    "\n",
    "**Question 3:** Calculate $H$ if the policy above was followed with $\\Delta = 0.05$. Does it improve profitability?"
   ]
  },
  {
   "cell_type": "code",
   "execution_count": null,
   "metadata": {},
   "outputs": [],
   "source": [
    "# write your code here"
   ]
  },
  {
   "attachments": {},
   "cell_type": "markdown",
   "metadata": {},
   "source": [
    "**Question 4:** Find the optimal $\\Delta$ maximizing $H$. Illustrate your result."
   ]
  },
  {
   "cell_type": "code",
   "execution_count": null,
   "metadata": {},
   "outputs": [],
   "source": [
    "# write your code here"
   ]
  },
  {
   "attachments": {},
   "cell_type": "markdown",
   "metadata": {},
   "source": [
    "\n",
    "**Question 5:** Suggest an alternative policy you believe might improve profitability. Implement and test your policy.\n",
    "\n"
   ]
  },
  {
   "cell_type": "code",
   "execution_count": null,
   "metadata": {},
   "outputs": [],
   "source": [
    "# write your code here"
   ]
  },
  {
   "attachments": {},
   "cell_type": "markdown",
   "metadata": {},
   "source": [
    "## 3. <a id='toc3_'></a>[Problem 3: Global optimizer with refined multi-start](#toc0_)"
   ]
  },
  {
   "attachments": {},
   "cell_type": "markdown",
   "metadata": {},
   "source": [
    "We consider the Griewank function:\n",
    "\n",
    "$$ f(\\boldsymbol{x}) = \\sum^n_{i=1} \\frac{x^2_i}{4000}-\\prod^n_{i=1}\\cos\\left(\\frac{x_i}{\\sqrt{i}}\\right)+1$$\n",
    "\n",
    "The **global minimum** of this function is $f(0,0) = 0$ (remember: $\\cos(0)=1$).<br>\n",
    "But the function also have a lot of **local minima**."
   ]
  },
  {
   "cell_type": "code",
   "execution_count": null,
   "metadata": {},
   "outputs": [],
   "source": [
    "def griewank(x):\n",
    "    return griewank_(x[0],x[1])\n",
    "    \n",
    "def griewank_(x1,x2):\n",
    "    A = x1**2/4000 + x2**2/4000\n",
    "    B = np.cos(x1/np.sqrt(1))*np.cos(x2/np.sqrt(2))\n",
    "    return A-B+1"
   ]
  },
  {
   "attachments": {},
   "cell_type": "markdown",
   "metadata": {},
   "source": [
    "A **refined global optimizer with multi-start** is:\n",
    "\n",
    "1. Choose *bounds* for $\\mathbf{x}$ and *tolerance* $\\tau > 0$.\n",
    "2. Choose number of *warm-up iterations*, $\\underline{K} > 0$ and *maximum number of iterations*, $K > \\underline{K}$.\n",
    "3. In each iteration for $k \\in \\{0,1,\\dots,K-1\\}$:\n",
    "\n",
    "    A. Draw random $\\mathbf{x}^k$ uniformly within chosen bounds.\n",
    "\n",
    "    B. If $k < \\underline{K}$ go to step E.\n",
    "\n",
    "    C. Calculate $\\chi^k = 0.50\\cdot\\frac{2}{1+\\exp((k-\\underline{K})/100)}$  \n",
    "\n",
    "    D. Set $\\mathbf{x}^{k0} = \\chi^k \\mathbf{x}^k + (1-\\chi^k)\\mathbf{x}^{\\ast} $\n",
    "\n",
    "    E. Run optimizer with $\\mathbf{x}^{k0}$ as initial guess and $\\mathbf{x}^{k\\ast}$ as result.\n",
    "\n",
    "    F. Set $\\mathbf{x}^{\\ast} = \\mathbf{x}^{k\\ast}$ if $k = 0$ or $f(\\mathbf{x}^{k\\ast}) < f(\\mathbf{x}^{\\ast})$\n",
    "\n",
    "    G. If $f(\\mathbf{x}^{\\ast}) < \\tau$ go to step 4.\n",
    "\n",
    "4. Return the result $\\mathbf{x}^{\\ast}$."
   ]
  },
  {
   "attachments": {},
   "cell_type": "markdown",
   "metadata": {},
   "source": [
    "As settings we choose:\n",
    "\n",
    "* $x_1,x_2 \\in  [-600,600]$\n",
    "* $\\tau = 10^{-8}$\n",
    "* $\\underline{K}=10$\n",
    "* $K=1000$\n",
    "\n",
    "The optimizer in Step 3.E is `BFGS` with a tolerance of $\\tau$."
   ]
  },
  {
   "attachments": {},
   "cell_type": "markdown",
   "metadata": {},
   "source": [
    "**Question 1:** Implement the refined global optimizer with multi-start. Illustrate how the effective initial guesses $\\mathbf{x}^{k0}$ vary with the iteration counter $k$."
   ]
  },
  {
   "cell_type": "code",
   "execution_count": null,
   "metadata": {},
   "outputs": [],
   "source": [
    "# Griewank function\n",
    "def griewank(x):\n",
    "    return griewank_(x[0], x[1])\n",
    "\n",
    "# Griewank function implementation\n",
    "def griewank_(x1, x2):\n",
    "    A = x1**2/4000 + x2**2/4000\n",
    "    B = np.cos(x1/np.sqrt(1))*np.cos(x2/np.sqrt(2))\n",
    "    return A - B + 1\n",
    "\n",
    "# Refined global optimizer with multi-start\n",
    "def refined_global_optimizer(bounds, tol, K_warmup, K_max):\n",
    "    x_ast = None  # Best solution found so far\n",
    "    chi = lambda k: 0.50 * 2 / (1 + np.exp((k - K_warmup) / 100))  # Scaling factor function\n",
    "    x0_history = []  # Track the initial guesses\n",
    "    \n",
    "    # Iterate from 0 to K_max\n",
    "    for k in range(K_max):\n",
    "        x_k = np.random.uniform(bounds[0], bounds[1], size=2)  # Generate random initial guess\n",
    "        x0_history.append(x_k)  # Store the initial guess\n",
    "        \n",
    "        if k >= K_warmup:\n",
    "            # Refined initial guess using the scaling factor and best solution found so far\n",
    "            x_k0 = chi(k) * x_k + (1 - chi(k)) * x_ast\n",
    "            res = optimize.minimize(griewank, x_k0, method='BFGS', tol=tol)  # Minimize Griewank function\n",
    "        else:\n",
    "            res = optimize.minimize(griewank, x_k, method='BFGS', tol=tol)  # Minimize Griewank function\n",
    "        \n",
    "        x_k_ast = res.x  # Best solution found in the current iteration\n",
    "        \n",
    "        # Update the best solution if the current solution is better\n",
    "        if x_ast is None or griewank(x_k_ast) < griewank(x_ast):\n",
    "            x_ast = x_k_ast\n",
    "        \n",
    "        # Check termination condition\n",
    "        if griewank(x_ast) < tol:\n",
    "            break\n",
    "    \n",
    "    return x_ast, x0_history\n",
    "\n",
    "# Settings\n",
    "bounds = [-600, 600]  # Bounds for variables x1 and x2\n",
    "tol = 10e-8  # Tolerance for termination condition\n",
    "K_warmup = 10  # Number of warm-up iterations\n",
    "K_max = 1000  # Maximum number of iterations\n",
    "\n",
    "# Run the optimizer\n",
    "result, x0_history = refined_global_optimizer(bounds, tol, K_warmup, K_max)\n",
    "\n",
    "# Plot the variation of initial guesses with iteration counter\n",
    "x0_history = np.array(x0_history)\n",
    "plt.plot(range(len(x0_history)), x0_history[:, 0], label='x1')\n",
    "plt.plot(range(len(x0_history)), x0_history[:, 1], label='x2')\n",
    "plt.xlabel('Iteration Counter (k)')\n",
    "plt.ylabel('Initial Guesses')\n",
    "plt.title('Variation of Initial Guesses with Iteration Counter')\n",
    "plt.legend()\n",
    "plt.show()\n",
    "\n",
    "print(\"Local minima: \", result)"
   ]
  },
  {
   "attachments": {},
   "cell_type": "markdown",
   "metadata": {},
   "source": [
    "**Question 2:** Is it a better idea to set $\\underline{K} = 100$? Is the convergence faster?"
   ]
  },
  {
   "cell_type": "code",
   "execution_count": null,
   "metadata": {},
   "outputs": [],
   "source": [
    "# write your code here"
   ]
  }
 ],
 "metadata": {
  "kernelspec": {
   "display_name": "base",
   "language": "python",
   "name": "python3"
  },
  "language_info": {
   "codemirror_mode": {
    "name": "ipython",
    "version": 3
   },
   "file_extension": ".py",
   "mimetype": "text/x-python",
   "name": "python",
   "nbconvert_exporter": "python",
   "pygments_lexer": "ipython3",
   "version": "3.8.13"
  },
  "orig_nbformat": 4,
  "vscode": {
   "interpreter": {
    "hash": "2ec3ced4067dd0244576a03d63a2f76a19a8ddc10b5bedc34b89159e583a5b83"
   }
  }
 },
 "nbformat": 4,
 "nbformat_minor": 2
}
