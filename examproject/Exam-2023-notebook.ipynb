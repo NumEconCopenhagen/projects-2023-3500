{
 "cells": [
  {
   "attachments": {},
   "cell_type": "markdown",
   "metadata": {},
   "source": [
    "**Table of contents**<a id='toc0_'></a>    \n",
    "- 1. [Problem 1: Optimal taxation with government consumption](#toc1_)    \n",
    "- 2. [Problem 2: Labor adjustment costs](#toc2_)    \n",
    "- 3. [Problem 3: Global optimizer with refined multi-start](#toc3_)    \n",
    "\n",
    "<!-- vscode-jupyter-toc-config\n",
    "\tnumbering=true\n",
    "\tanchor=true\n",
    "\tflat=false\n",
    "\tminLevel=2\n",
    "\tmaxLevel=6\n",
    "\t/vscode-jupyter-toc-config -->\n",
    "<!-- THIS CELL WILL BE REPLACED ON TOC UPDATE. DO NOT WRITE YOUR TEXT IN THIS CELL -->"
   ]
  },
  {
   "cell_type": "code",
   "execution_count": 53,
   "metadata": {},
   "outputs": [],
   "source": [
    "from types import SimpleNamespace\n",
    "from scipy import optimize\n",
    "import numpy as np\n",
    "import matplotlib.pyplot as plt"
   ]
  },
  {
   "attachments": {},
   "cell_type": "markdown",
   "metadata": {},
   "source": [
    "## 1. <a id='toc1_'></a>[Problem 1: Optimal taxation with government consumption](#toc0_)"
   ]
  },
  {
   "attachments": {},
   "cell_type": "markdown",
   "metadata": {},
   "source": [
    "\n",
    "Consider a worker choosing hours of labor, $L\\in[0,24]$, to maximize utility: \n",
    "\n",
    "$$\n",
    "\\begin{align*}\n",
    "V(w,\\tau,G)&=\\max_{L\\in[0,24]}\\ln\\left(C^{\\alpha}G^{1-\\alpha}\\right)-\\nu\\frac{L^{2}}{2}\\\\&\\text{s.t.}\\\\&C=\\kappa+(1-\\tau)wL\n",
    "\\end{align*}\n",
    "$$\n",
    "\n",
    "where \n",
    "\n",
    "* $C$ is *private* consumption with weight $\\alpha\\in(0,1)$.\n",
    "* $\\kappa > 0$ is the *free private* consumption component.\n",
    "* $(1-\\tau)wL$ is the *costly private* consumption component.\n",
    "* $w > 0 $ is the real wage.\n",
    "* $\\tau \\in (0,1)$ is the labor-income tax rate.\n",
    "* $G > 0 $ is *government* consumption with weight $1-\\alpha$.\n",
    "* $\\nu > 0$ is the disutility of labor scaling factor"
   ]
  },
  {
   "attachments": {},
   "cell_type": "markdown",
   "metadata": {},
   "source": [
    "\n",
    "The baseline parameters are:\n",
    "\n",
    "$$\n",
    "\\begin{align*}\n",
    "\\alpha &= 0.5\\\\\n",
    "\\kappa &= 1.0\\\\\n",
    "\\nu &= \\frac{1}{2\\cdot16^2} \\\\\n",
    "w &= 1.0 \\\\ \n",
    "\\tau &= 0.30 \\\\\n",
    "\\end{align*}\n",
    "$$"
   ]
  },
  {
   "attachments": {},
   "cell_type": "markdown",
   "metadata": {},
   "source": [
    "**Question 1:** Verify that the optimal labor supply choice is $L^{\\star}(\\tilde{w}) =\\frac{-\\kappa+\\sqrt{\\kappa^{2}+4\\frac{\\alpha}{\\nu}\\tilde{w}^2}}{2\\tilde{w}}$, where $\\tilde{w} = (1-\\tau)w$, for $G\\in\\left\\{1.0 , 2.0\\right\\}$."
   ]
  },
  {
   "cell_type": "code",
   "execution_count": 48,
   "metadata": {},
   "outputs": [
    {
     "name": "stdout",
     "output_type": "stream",
     "text": [
      "With a government spending of 2.0 the worker will choose to work 15.3 hours\n"
     ]
    }
   ],
   "source": [
    "sol = SimpleNamespace()\n",
    "# Preference\n",
    "alfa = 0.5\n",
    "kappa = 1\n",
    "v = 1/(2*16**2)\n",
    "w = 1\n",
    "tau = 0.3\n",
    "\n",
    "def utility(labour, gov):\n",
    "    con = kappa+(1-tau)*w*labour\n",
    "    return (np.log((con**alfa)*(gov**(1-alfa)))-v*(labour**2/2))\n",
    "\n",
    "def solve(sol):\n",
    "    objective_function = lambda x: -utility(x[0],x[1])\n",
    "    x0= [12.01, 1.5]\n",
    "    bounds = [(0.001, 24.0),(0.9999, 2.001)]\n",
    "    solution = optimize.minimize(objective_function, x0, method='Nelder-Mead', bounds=bounds)\n",
    "    sol.labour = solution.x[0]\n",
    "    sol.gov = solution.x[1]\n",
    "    return sol\n",
    "\n",
    "sol = solve(sol)\n",
    "print(f\"With a government spending of {sol.gov:.1f} the worker will choose to work {sol.labour:.1f} hours\")"
   ]
  },
  {
   "attachments": {},
   "cell_type": "markdown",
   "metadata": {},
   "source": [
    "**Question 2:** Illustrate how $L^{\\star}(\\tilde{w})$ depends on $w$."
   ]
  },
  {
   "cell_type": "code",
   "execution_count": 56,
   "metadata": {},
   "outputs": [
    {
     "name": "stdout",
     "output_type": "stream",
     "text": [
      "With a wage of 0.00, a government spending of 2.0, the worker will choose to work 0.0 hours.\n",
      "With a wage of 0.05, a government spending of 2.0, the worker will choose to work 7.2 hours.\n",
      "With a wage of 0.10, a government spending of 2.0, the worker will choose to work 10.4 hours.\n",
      "With a wage of 0.15, a government spending of 2.0, the worker will choose to work 11.9 hours.\n",
      "With a wage of 0.20, a government spending of 2.0, the worker will choose to work 12.8 hours.\n",
      "With a wage of 0.25, a government spending of 2.0, the worker will choose to work 13.4 hours.\n",
      "With a wage of 0.30, a government spending of 2.0, the worker will choose to work 13.8 hours.\n",
      "With a wage of 0.35, a government spending of 2.0, the worker will choose to work 14.1 hours.\n",
      "With a wage of 0.40, a government spending of 2.0, the worker will choose to work 14.3 hours.\n",
      "With a wage of 0.45, a government spending of 2.0, the worker will choose to work 14.5 hours.\n",
      "With a wage of 0.50, a government spending of 2.0, the worker will choose to work 14.6 hours.\n",
      "With a wage of 0.55, a government spending of 2.0, the worker will choose to work 14.8 hours.\n",
      "With a wage of 0.60, a government spending of 2.0, the worker will choose to work 14.9 hours.\n",
      "With a wage of 0.65, a government spending of 2.0, the worker will choose to work 14.9 hours.\n",
      "With a wage of 0.70, a government spending of 2.0, the worker will choose to work 15.0 hours.\n",
      "With a wage of 0.75, a government spending of 2.0, the worker will choose to work 15.1 hours.\n",
      "With a wage of 0.80, a government spending of 2.0, the worker will choose to work 15.1 hours.\n",
      "With a wage of 0.85, a government spending of 2.0, the worker will choose to work 15.2 hours.\n",
      "With a wage of 0.90, a government spending of 2.0, the worker will choose to work 15.2 hours.\n",
      "With a wage of 0.95, a government spending of 2.0, the worker will choose to work 15.3 hours.\n",
      "With a wage of 1.00, a government spending of 2.0, the worker will choose to work 15.3 hours.\n",
      "With a wage of 1.05, a government spending of 2.0, the worker will choose to work 15.3 hours.\n",
      "With a wage of 1.10, a government spending of 2.0, the worker will choose to work 15.4 hours.\n",
      "With a wage of 1.15, a government spending of 2.0, the worker will choose to work 15.4 hours.\n",
      "With a wage of 1.20, a government spending of 2.0, the worker will choose to work 15.4 hours.\n",
      "With a wage of 1.25, a government spending of 2.0, the worker will choose to work 15.4 hours.\n",
      "With a wage of 1.30, a government spending of 2.0, the worker will choose to work 15.5 hours.\n",
      "With a wage of 1.35, a government spending of 2.0, the worker will choose to work 15.5 hours.\n",
      "With a wage of 1.40, a government spending of 2.0, the worker will choose to work 15.5 hours.\n",
      "With a wage of 1.45, a government spending of 2.0, the worker will choose to work 15.5 hours.\n",
      "With a wage of 1.50, a government spending of 2.0, the worker will choose to work 15.5 hours.\n",
      "With a wage of 1.55, a government spending of 2.0, the worker will choose to work 15.5 hours.\n",
      "With a wage of 1.60, a government spending of 2.0, the worker will choose to work 15.6 hours.\n",
      "With a wage of 1.65, a government spending of 2.0, the worker will choose to work 15.6 hours.\n",
      "With a wage of 1.70, a government spending of 2.0, the worker will choose to work 15.6 hours.\n",
      "With a wage of 1.75, a government spending of 2.0, the worker will choose to work 15.6 hours.\n",
      "With a wage of 1.80, a government spending of 2.0, the worker will choose to work 15.6 hours.\n",
      "With a wage of 1.85, a government spending of 2.0, the worker will choose to work 15.6 hours.\n",
      "With a wage of 1.90, a government spending of 2.0, the worker will choose to work 15.6 hours.\n",
      "With a wage of 1.95, a government spending of 2.0, the worker will choose to work 15.6 hours.\n",
      "With a wage of 2.00, a government spending of 2.0, the worker will choose to work 15.6 hours.\n"
     ]
    },
    {
     "data": {
      "image/png": "[encoded data removed]",
      "text/plain": [
       "<Figure size 800x600 with 1 Axes>"
      ]
     },
     "metadata": {},
     "output_type": "display_data"
    }
   ],
   "source": [
    "res = SimpleNamespace()\n",
    "w_vec = np.linspace(0.0,2,41)\n",
    "res.labour = []\n",
    "res.gov = []\n",
    "\n",
    "\n",
    "\n",
    "for w in w_vec:\n",
    "    solve(sol)\n",
    "    res.labour.append(sol.labour)\n",
    "    res.gov.append(sol.gov)\n",
    "\n",
    "for i in range(len(w_vec)):\n",
    "    w = w_vec[i]\n",
    "    print(f\"With a wage of {w:.2f}, a government spending of {res.gov[i]:.1f}, the worker will choose to work {res.labour[i]:.1f} hours.\")\n",
    "\n",
    "\n",
    "# Plot the results\n",
    "plt.figure(figsize=(8, 6))\n",
    "plt.plot(w_vec, res.labour, label='Labor')\n",
    "plt.plot(w_vec, res.gov, label='Government Spending')\n",
    "plt.xlabel('Wage')\n",
    "plt.ylabel('Hours worked and government spending')\n",
    "plt.title('Optimal Labor and Government Spending vs. Wage')\n",
    "plt.legend()\n",
    "plt.grid(True)"
   ]
  },
  {
   "attachments": {},
   "cell_type": "markdown",
   "metadata": {},
   "source": [
    "\n",
    "We now consider a government, who chooses $\\tau$ and spend all of the taxes on government consumption so:\n",
    "\n",
    "$$\n",
    "G = \\tau w L^{\\star}((1-\\tau)w)\n",
    "$$\n",
    "\n",
    "**Question 3:** Plot the implied $L$, $G$ and worker utility for a grid of $\\tau$-values.\n"
   ]
  },
  {
   "cell_type": "code",
   "execution_count": 4,
   "metadata": {},
   "outputs": [],
   "source": [
    "# write your code here"
   ]
  },
  {
   "attachments": {},
   "cell_type": "markdown",
   "metadata": {},
   "source": [
    "**Question 4:** Find the socially optimal tax rate $\\tau^{\\star}\\in(0,1)$ maximizing worker utility. Illustrate your result."
   ]
  },
  {
   "cell_type": "code",
   "execution_count": 5,
   "metadata": {},
   "outputs": [],
   "source": [
    "# write your code here"
   ]
  },
  {
   "attachments": {},
   "cell_type": "markdown",
   "metadata": {},
   "source": [
    "A more general preference formulation for the worker is:\n",
    "\n",
    "$$\n",
    "\\begin{align*}\n",
    "\\mathcal{V}(w,\\tau,G)&=\\max_{L\\in[0,24]}\\frac{\\left[ \\left( \\alpha C^{\\frac{\\sigma-1}{\\sigma}}+(1-\\alpha) G^{\\frac{\\sigma-1}{\\sigma}} \\right)^{\\frac{\\sigma}{1-\\sigma} }\\right]^{1-\\rho}-1}{1-\\rho}- \\nu\\frac{L^{1+\\varepsilon}}{1+\\varepsilon},\\,\\,\\,\\varepsilon,\\rho,\\sigma>0,\\,\\,\\,\\rho,\\sigma\\neq1\\\\&\\text{s.t.}\\\\&C=\\kappa+(1-\\tau)wL\n",
    "\\end{align*}    \n",
    "$$\n",
    "\n",
    "Optimal labor supply is now $L^{\\star}(\\tilde{w},G)$."
   ]
  },
  {
   "attachments": {},
   "cell_type": "markdown",
   "metadata": {},
   "source": [
    "Questions 5 and 6 must be answered with the general formulation, and for 2 different set of parameters:\n",
    "\n",
    "- Set 1:  $\\sigma = 1.001$, $\\rho = 1.001$ and $\\varepsilon = 1.0$.\n",
    "- Set 2:  $\\sigma = 1.5$, $\\rho = 1.5$ and $\\varepsilon = 1.0 $."
   ]
  },
  {
   "attachments": {},
   "cell_type": "markdown",
   "metadata": {},
   "source": [
    "**Question 5:** Find the $G$ that solves $G = \\tau w L^{\\star}((1-\\tau)w,G)$ using the $\\tau$ found in question 4.\n",
    "\n",
    "*Hint: First write code that solves the worker problem for given values of $G$ and $\\tau$. Then find the correct G based on this.*"
   ]
  },
  {
   "cell_type": "code",
   "execution_count": 6,
   "metadata": {},
   "outputs": [],
   "source": [
    "# write your code here"
   ]
  },
  {
   "attachments": {},
   "cell_type": "markdown",
   "metadata": {},
   "source": [
    "**Question 6:** Find the socially optimal tax rate, $\\tau^{\\star}$, maximizing worker utility, while keeping $G = \\tau w L^{\\star}((1-\\tau)w,G)$."
   ]
  },
  {
   "cell_type": "code",
   "execution_count": 7,
   "metadata": {},
   "outputs": [],
   "source": [
    "# write your code here  "
   ]
  },
  {
   "attachments": {},
   "cell_type": "markdown",
   "metadata": {},
   "source": [
    "## 2. <a id='toc2_'></a>[Problem 2: Labor adjustment costs](#toc0_)"
   ]
  },
  {
   "attachments": {},
   "cell_type": "markdown",
   "metadata": {},
   "source": [
    "You own a hair salon. You employ hairdressers, $\\ell_t$, to produce haircuts, $y_t = \\ell_t$.\n",
    "\n",
    "The wage for each haridresser is $w$.\n",
    "\n",
    "The demand for haircuts implies that the price of haircuts you can charge is $p_t = \\kappa_t y_t^{-\\eta}$, where $\\kappa_t$ is a demand-shock and $\\eta \\in (0,1)$ measures the elasticity of demand.\n",
    "\n",
    "Profits are:\n",
    "\n",
    "$$\n",
    "\\Pi_t = p_t y_t - w \\ell_t = \\kappa_t \\ell_t^{1-\\eta} - w \\ell_t\n",
    "$$"
   ]
  },
  {
   "attachments": {},
   "cell_type": "markdown",
   "metadata": {},
   "source": [
    "Baseline parameters are:\n",
    "- $\\eta = 0.5$\n",
    "- $w = 1.0$"
   ]
  },
  {
   "attachments": {},
   "cell_type": "markdown",
   "metadata": {},
   "source": [
    "**Question 1:** Verify numerically that $\\ell_{t}=\\left(\\frac{(1-\\eta)\\kappa_{t}}{w}\\right)^{\\frac{1}{\\eta}}$ maximises profits, for $\\kappa\\in\\left\\{1.0 , 2.0\\right\\}$."
   ]
  },
  {
   "cell_type": "code",
   "execution_count": 25,
   "metadata": {},
   "outputs": [
    {
     "name": "stdout",
     "output_type": "stream",
     "text": [
      "With a kappa of 2.0 we want to hire 1.0 hairdressors in equilibrium. By using the mathematically solution we get the same result.\n"
     ]
    }
   ],
   "source": [
    "sol = SimpleNamespace()\n",
    "# Preference\n",
    "kappa_neg1 = 1\n",
    "w = 1\n",
    "eta = 0.5\n",
    "labour = 1\n",
    "\n",
    "def profit(kappa_neg1,labour):\n",
    "    return (kappa_neg1*labour**(1-eta)-w*labour)\n",
    "\n",
    "objective_function = lambda x: -profit(x[0],x[1])\n",
    "x0= [1.5, 10.01]\n",
    "bounds = [(0.9999, 2.001), (0.001, 1000.1)]\n",
    "solution = optimize.minimize(objective_function, x0, method='Nelder-Mead', bounds=bounds)\n",
    "sol.kappa = solution.x[0]\n",
    "sol.labour = solution.x[1]\n",
    "print(f\"With a kappa of {sol.kappa:.1f} we want to hire {sol.labour:.1f} hairdressors in equilibrium. By using the mathematically solution we get the same result.\")\n",
    "\n"
   ]
  },
  {
   "attachments": {},
   "cell_type": "markdown",
   "metadata": {},
   "source": [
    "We now consider a *dynamic* version of the model.\n",
    "\n",
    "* The demand-shock is a so-called AR(1) in logs, \n",
    "\n",
    "$$\n",
    "\\log \\kappa_{t} = \\rho \\log \\kappa_{t-1} + \\epsilon_{t},\\,\\,\\, \\epsilon_{t+1} \\sim \\mathcal{N}(-0.5\\sigma_{\\epsilon}^2,\\sigma_{\\epsilon})\n",
    "$$\n",
    "\n",
    "* Any hiring or firing implies a fixed adjustment cost, $\\iota > 0 $.\n",
    "* Future profits are discounted with a monthly factor of $R \\in (0,1)$.\n",
    "\n",
    "The initial demand shock is $\\kappa_{-1} = 1$ and the planning horizon is 10 years, i.e. 120 months so $t \\in \\{0,1,2,\\dots,119\\}$. Initially you don't have any employees, $\\ell_{-1}=0$"
   ]
  },
  {
   "attachments": {},
   "cell_type": "markdown",
   "metadata": {},
   "source": [
    "\n",
    "The *ex post* value of the salon is *conditional* on the shock series is:\n",
    "\n",
    "$$\n",
    "h(\\epsilon_0,\\epsilon_1,\\dots,\\epsilon_{119}) = \\left[\\sum_{t=0}^{119}R^{-t}\\left[\\kappa_{t}\\ell_{t}^{1-\\eta}-w\\ell_{t}-\\boldsymbol{1}_{\\ell_{t}\\neq\\ell_{t-1}}\\iota\\right]\\right]\n",
    "$$\n",
    "\n",
    "The *ex ante* expected value of the salon can be approximated by\n",
    "\n",
    "$$\n",
    "H = \\mathbb{E}[h(\\epsilon_0,\\epsilon_1,\\dots,\\epsilon_{119})] \\approx \\frac{1}{K}\\sum_{k=0}^{K} h(\\epsilon_0^k,\\epsilon_1^k,\\dots,\\epsilon_{119}^k)\n",
    "$$\n",
    "\n",
    "where each $k\\in\\{0,1,\\dots,K-1\\}$ is a random shock series. Maximizing profitability means maximizing $H$.\n"
   ]
  },
  {
   "attachments": {},
   "cell_type": "markdown",
   "metadata": {},
   "source": [
    "Baseline parameters are: \n",
    "\n",
    "- $\\rho = 0.90$\n",
    "- $\\iota = 0.01$\n",
    "- $\\sigma_{\\epsilon} = 0.10$\n",
    "- $R = \\left(1+0.01\\right)^{1/12}$"
   ]
  },
  {
   "attachments": {},
   "cell_type": "markdown",
   "metadata": {},
   "source": [
    "**Question 2:** Calculate $H$ if the policy  $\\ell_{t}=\\left(\\frac{(1-\\eta)\\kappa_{t}}{w}\\right)^{\\frac{1}{\\eta}}$ from question 1 is followed. Choose $K$ so the approximation is good enough to not affect your results substantially."
   ]
  },
  {
   "cell_type": "code",
   "execution_count": 35,
   "metadata": {},
   "outputs": [
    {
     "ename": "TypeError",
     "evalue": "kappa() missing 1 required positional argument: 'par'",
     "output_type": "error",
     "traceback": [
      "\u001b[0;31m---------------------------------------------------------------------------\u001b[0m",
      "\u001b[0;31mTypeError\u001b[0m                                 Traceback (most recent call last)",
      "\u001b[0;32m/var/folders/1n/7t8fqrg92p9chjqy31yp7x2r0000gn/T/ipykernel_76809/651807829.py\u001b[0m in \u001b[0;36m<module>\u001b[0;34m\u001b[0m\n\u001b[1;32m     25\u001b[0m \u001b[0mpar\u001b[0m\u001b[0;34m.\u001b[0m\u001b[0mT\u001b[0m \u001b[0;34m=\u001b[0m \u001b[0;36m120\u001b[0m\u001b[0;34m\u001b[0m\u001b[0;34m\u001b[0m\u001b[0m\n\u001b[1;32m     26\u001b[0m \u001b[0;34m\u001b[0m\u001b[0m\n\u001b[0;32m---> 27\u001b[0;31m \u001b[0mkappa\u001b[0m\u001b[0;34m(\u001b[0m\u001b[0;34m)\u001b[0m\u001b[0;34m\u001b[0m\u001b[0;34m\u001b[0m\u001b[0m\n\u001b[0m",
      "\u001b[0;31mTypeError\u001b[0m: kappa() missing 1 required positional argument: 'par'"
     ]
    }
   ],
   "source": [
    "sol = SimpleNamespace()\n",
    "par = SimpleNamespace()\n",
    "# Preferences\n",
    "par.rho = 0.9\n",
    "par.iota = 0.01\n",
    "par.sigmaeps = 0.1\n",
    "par.r = (1+0.01)**(1/12)\n",
    "par.labour_neg1 = 0\n",
    "\n",
    "\n",
    "def kappa(par):\n",
    "    sol.logkappa = np.zeros((par.T+1))\n",
    "    par.kappa[-1] = 1\n",
    "    epsilon = np.random.normal(-0.5 * par.sigmaeps ** 2, par.sigmaeps, par.T)\n",
    "\n",
    "    for t in range(0, par.T):\n",
    "        sol.logkappa[t] = par.rho * sol.logkappa[t-1] + epsilon[t]\n",
    "\n",
    "    return np.exp(sol.logkappa)\n",
    "\n",
    "def solve(par):\n",
    "    \n",
    "    sol.v = np.zeros((par.T,par.Nm))\n",
    "\n",
    "par.T = 120\n",
    "\n",
    "kappa()\n"
   ]
  },
  {
   "attachments": {},
   "cell_type": "markdown",
   "metadata": {},
   "source": [
    "Next, we consider policies on the form:\n",
    "\n",
    "$$\n",
    "\n",
    "\\ell_{t}=\\begin{cases}\n",
    "\\ell_t^{\\ast}  & \\text{if }\\left|\\ell_{t-1}-\\ell_t^{\\ast} \\right|>\\Delta\\\\\n",
    "\\ell_{t-1} & \\text{else }\n",
    "\\end{cases}\n",
    "\\\\\n",
    "\\text{where}\\,\\,\\ell_t^{\\ast} = \\left(\\frac{(1-\\eta)\\kappa_{t}}{w}\\right)^{\\frac{1}{\\eta}} \\\\\n",
    "\n",
    "$$\n",
    "With $\\Delta \\geq 0$ and $\\Delta = 0$ being the previous policy.\n"
   ]
  },
  {
   "attachments": {},
   "cell_type": "markdown",
   "metadata": {},
   "source": [
    "\n",
    "**Question 3:** Calculate $H$ if the policy above was followed with $\\Delta = 0.05$. Does it improve profitability?"
   ]
  },
  {
   "cell_type": "code",
   "execution_count": 10,
   "metadata": {},
   "outputs": [],
   "source": [
    "# write your code here"
   ]
  },
  {
   "attachments": {},
   "cell_type": "markdown",
   "metadata": {},
   "source": [
    "**Question 4:** Find the optimal $\\Delta$ maximizing $H$. Illustrate your result."
   ]
  },
  {
   "cell_type": "code",
   "execution_count": 11,
   "metadata": {},
   "outputs": [],
   "source": [
    "# write your code here"
   ]
  },
  {
   "attachments": {},
   "cell_type": "markdown",
   "metadata": {},
   "source": [
    "\n",
    "**Question 5:** Suggest an alternative policy you believe might improve profitability. Implement and test your policy.\n",
    "\n"
   ]
  },
  {
   "cell_type": "code",
   "execution_count": 12,
   "metadata": {},
   "outputs": [],
   "source": [
    "# write your code here"
   ]
  },
  {
   "attachments": {},
   "cell_type": "markdown",
   "metadata": {},
   "source": [
    "## 3. <a id='toc3_'></a>[Problem 3: Global optimizer with refined multi-start](#toc0_)"
   ]
  },
  {
   "attachments": {},
   "cell_type": "markdown",
   "metadata": {},
   "source": [
    "We consider the Griewank function:\n",
    "\n",
    "$$ f(\\boldsymbol{x}) = \\sum^n_{i=1} \\frac{x^2_i}{4000}-\\prod^n_{i=1}\\cos\\left(\\frac{x_i}{\\sqrt{i}}\\right)+1$$\n",
    "\n",
    "The **global minimum** of this function is $f(0,0) = 0$ (remember: $\\cos(0)=1$).<br>\n",
    "But the function also have a lot of **local minima**."
   ]
  },
  {
   "cell_type": "code",
   "execution_count": 13,
   "metadata": {},
   "outputs": [],
   "source": [
    "def griewank(x):\n",
    "    return griewank_(x[0],x[1])\n",
    "    \n",
    "def griewank_(x1,x2):\n",
    "    A = x1**2/4000 + x2**2/4000\n",
    "    B = np.cos(x1/np.sqrt(1))*np.cos(x2/np.sqrt(2))\n",
    "    return A-B+1"
   ]
  },
  {
   "attachments": {},
   "cell_type": "markdown",
   "metadata": {},
   "source": [
    "A **refined global optimizer with multi-start** is:\n",
    "\n",
    "1. Choose *bounds* for $\\mathbf{x}$ and *tolerance* $\\tau > 0$.\n",
    "2. Choose number of *warm-up iterations*, $\\underline{K} > 0$ and *maximum number of iterations*, $K > \\underline{K}$.\n",
    "3. In each iteration for $k \\in \\{0,1,\\dots,K-1\\}$:\n",
    "\n",
    "    A. Draw random $\\mathbf{x}^k$ uniformly within chosen bounds.\n",
    "\n",
    "    B. If $k < \\underline{K}$ go to step E.\n",
    "\n",
    "    C. Calculate $\\chi^k = 0.50\\cdot\\frac{2}{1+\\exp((k-\\underline{K})/100)}$  \n",
    "\n",
    "    D. Set $\\mathbf{x}^{k0} = \\chi^k \\mathbf{x}^k + (1-\\chi^k)\\mathbf{x}^{\\ast} $\n",
    "\n",
    "    E. Run optimizer with $\\mathbf{x}^{k0}$ as initial guess and $\\mathbf{x}^{k\\ast}$ as result.\n",
    "\n",
    "    F. Set $\\mathbf{x}^{\\ast} = \\mathbf{x}^{k\\ast}$ if $k = 0$ or $f(\\mathbf{x}^{k\\ast}) < f(\\mathbf{x}^{\\ast})$\n",
    "\n",
    "    G. If $f(\\mathbf{x}^{\\ast}) < \\tau$ go to step 4.\n",
    "\n",
    "4. Return the result $\\mathbf{x}^{\\ast}$."
   ]
  },
  {
   "attachments": {},
   "cell_type": "markdown",
   "metadata": {},
   "source": [
    "As settings we choose:\n",
    "\n",
    "* $x_1,x_2 \\in  [-600,600]$\n",
    "* $\\tau = 10^{-8}$\n",
    "* $\\underline{K}=10$\n",
    "* $K=1000$\n",
    "\n",
    "The optimizer in Step 3.E is `BFGS` with a tolerance of $\\tau$."
   ]
  },
  {
   "attachments": {},
   "cell_type": "markdown",
   "metadata": {},
   "source": [
    "**Question 1:** Implement the refined global optimizer with multi-start. Illustrate how the effective initial guesses $\\mathbf{x}^{k0}$ vary with the iteration counter $k$."
   ]
  },
  {
   "cell_type": "code",
   "execution_count": 26,
   "metadata": {},
   "outputs": [
    {
     "name": "stdout",
     "output_type": "stream",
     "text": [
      "Local minima:  [-1.19122408e-08 -3.25457189e-09]\n"
     ]
    }
   ],
   "source": [
    "def griewank(x):\n",
    "    return griewank_(x[0], x[1])\n",
    "\n",
    "def griewank_(x1, x2):\n",
    "    A = x1**2/4000 + x2**2/4000\n",
    "    B = np.cos(x1/np.sqrt(1))*np.cos(x2/np.sqrt(2))\n",
    "    return A - B + 1\n",
    "\n",
    "def refined_global_optimizer(bounds, tol, K_warmup, K_max):\n",
    "    x_ast = None\n",
    "    chi = lambda k: 0.50 * 2 / (1 + np.exp((k - K_warmup) / 100))\n",
    "    \n",
    "    for k in range(K_max):\n",
    "        x_k = np.random.uniform(bounds[0], bounds[1], size=2)\n",
    "        \n",
    "        if k >= K_warmup:\n",
    "            x_k0 = chi(k) * x_k + (1 - chi(k)) * x_ast\n",
    "            res = optimize.minimize(griewank, x_k0, method='BFGS', tol=tol)\n",
    "        else:\n",
    "            res = optimize.minimize(griewank, x_k, method='BFGS', tol=tol)\n",
    "        \n",
    "        x_k_ast = res.x\n",
    "        \n",
    "        if x_ast is None or griewank(x_k_ast) < griewank(x_ast):\n",
    "            x_ast = x_k_ast\n",
    "        \n",
    "        if griewank(x_ast) < tol:\n",
    "            break\n",
    "    \n",
    "    return x_ast\n",
    "\n",
    "# Settings\n",
    "bounds = [-600, 600]\n",
    "tol = 10e-8\n",
    "K_warmup = 10\n",
    "K_max = 1000\n",
    "\n",
    "# Run the optimizer\n",
    "result = refined_global_optimizer(bounds, tol, K_warmup, K_max)\n",
    "\n",
    "print(\"Local minima: \", result)"
   ]
  },
  {
   "attachments": {},
   "cell_type": "markdown",
   "metadata": {},
   "source": [
    "**Question 2:** Is it a better idea to set $\\underline{K} = 100$? Is the convergence faster?"
   ]
  },
  {
   "cell_type": "code",
   "execution_count": 15,
   "metadata": {},
   "outputs": [],
   "source": [
    "# write your code here"
   ]
  }
 ],
 "metadata": {
  "kernelspec": {
   "display_name": "base",
   "language": "python",
   "name": "python3"
  },
  "language_info": {
   "codemirror_mode": {
    "name": "ipython",
    "version": 3
   },
   "file_extension": ".py",
   "mimetype": "text/x-python",
   "name": "python",
   "nbconvert_exporter": "python",
   "pygments_lexer": "ipython3",
   "version": "3.8.13"
  },
  "orig_nbformat": 4,
  "vscode": {
   "interpreter": {
    "hash": "2ec3ced4067dd0244576a03d63a2f76a19a8ddc10b5bedc34b89159e583a5b83"
   }
  }
 },
 "nbformat": 4,
 "nbformat_minor": 2
}
